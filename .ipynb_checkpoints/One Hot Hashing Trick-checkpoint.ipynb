{
 "cells": [
  {
   "cell_type": "code",
   "execution_count": 36,
   "id": "earned-drink",
   "metadata": {},
   "outputs": [],
   "source": [
    "import numpy as np"
   ]
  },
  {
   "cell_type": "code",
   "execution_count": 47,
   "id": "reserved-cosmetic",
   "metadata": {},
   "outputs": [],
   "source": [
    "samples = ['My name is atanu','I am preparing for new opportunities','I will crack the interview']"
   ]
  },
  {
   "cell_type": "code",
   "execution_count": 48,
   "id": "suited-amazon",
   "metadata": {},
   "outputs": [],
   "source": [
    "dimensionality = 1000\n",
    "max_length = 10"
   ]
  },
  {
   "cell_type": "code",
   "execution_count": 49,
   "id": "binary-oasis",
   "metadata": {},
   "outputs": [],
   "source": [
    "results = np.zeros((len(samples),max_length,dimensionality))"
   ]
  },
  {
   "cell_type": "code",
   "execution_count": 50,
   "id": "everyday-premium",
   "metadata": {},
   "outputs": [],
   "source": [
    "for i, sample in enumerate(samples):\n",
    "    for j, word in list(enumerate(sample.split()))[:max_length]:\n",
    "        index = abs(hash(word)) % dimensionality\n",
    "        results[i,j,index] = 1"
   ]
  },
  {
   "cell_type": "code",
   "execution_count": 51,
   "id": "joined-confidence",
   "metadata": {},
   "outputs": [
    {
     "data": {
      "text/plain": [
       "543"
      ]
     },
     "execution_count": 51,
     "metadata": {},
     "output_type": "execute_result"
    }
   ],
   "source": [
    "abs(hash('opportunities')) % 1000"
   ]
  },
  {
   "cell_type": "code",
   "execution_count": 52,
   "id": "automotive-official",
   "metadata": {},
   "outputs": [],
   "source": [
    "l = results[1,5,]"
   ]
  },
  {
   "cell_type": "code",
   "execution_count": null,
   "id": "polar-forward",
   "metadata": {},
   "outputs": [],
   "source": []
  }
 ],
 "metadata": {
  "kernelspec": {
   "display_name": "Python 3",
   "language": "python",
   "name": "python3"
  },
  "language_info": {
   "codemirror_mode": {
    "name": "ipython",
    "version": 3
   },
   "file_extension": ".py",
   "mimetype": "text/x-python",
   "name": "python",
   "nbconvert_exporter": "python",
   "pygments_lexer": "ipython3",
   "version": "3.6.9"
  }
 },
 "nbformat": 4,
 "nbformat_minor": 5
}
