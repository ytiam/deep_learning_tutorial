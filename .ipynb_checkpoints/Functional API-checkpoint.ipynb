{
 "cells": [
  {
   "cell_type": "code",
   "execution_count": 1,
   "id": "partial-bread",
   "metadata": {},
   "outputs": [],
   "source": [
    "from tensorflow.keras.models import Model\n",
    "from tensorflow.keras import layers\n",
    "from tensorflow.keras import Input"
   ]
  },
  {
   "cell_type": "code",
   "execution_count": 2,
   "id": "international-caribbean",
   "metadata": {},
   "outputs": [],
   "source": [
    "import numpy as np"
   ]
  },
  {
   "cell_type": "code",
   "execution_count": 3,
   "id": "auburn-dylan",
   "metadata": {},
   "outputs": [],
   "source": [
    "num_samples = 1000\n",
    "max_length = 100"
   ]
  },
  {
   "cell_type": "code",
   "execution_count": 4,
   "id": "blond-operator",
   "metadata": {},
   "outputs": [],
   "source": [
    "text_vocab_size = 10000\n",
    "ques_vocab_size = 10000\n",
    "ans_vocab_size = 500"
   ]
  },
  {
   "cell_type": "code",
   "execution_count": 5,
   "id": "damaged-batch",
   "metadata": {},
   "outputs": [],
   "source": [
    "text = np.random.randint(1,text_vocab_size,size=(num_samples,max_length))"
   ]
  },
  {
   "cell_type": "code",
   "execution_count": 6,
   "id": "resistant-samba",
   "metadata": {},
   "outputs": [
    {
     "data": {
      "text/plain": [
       "(1000, 100)"
      ]
     },
     "execution_count": 6,
     "metadata": {},
     "output_type": "execute_result"
    }
   ],
   "source": [
    "text.shape"
   ]
  },
  {
   "cell_type": "code",
   "execution_count": 7,
   "id": "generic-martial",
   "metadata": {},
   "outputs": [],
   "source": [
    "question = np.random.randint(1,ques_vocab_size,size=(num_samples,max_length))"
   ]
  },
  {
   "cell_type": "code",
   "execution_count": 8,
   "id": "herbal-pasta",
   "metadata": {},
   "outputs": [],
   "source": [
    "answers = np.random.randint(0,1,size=(num_samples,ans_vocab_size))"
   ]
  },
  {
   "cell_type": "code",
   "execution_count": 9,
   "id": "communist-ozone",
   "metadata": {},
   "outputs": [],
   "source": [
    "text_input = Input(shape=(None,), dtype ='int32',name='text')"
   ]
  },
  {
   "cell_type": "code",
   "execution_count": 10,
   "id": "pediatric-decade",
   "metadata": {},
   "outputs": [],
   "source": [
    "embedded_text = layers.Embedding(text_vocab_size,64)(text_input)\n",
    "encoded_text = layers.LSTM(32)(embedded_text)"
   ]
  },
  {
   "cell_type": "code",
   "execution_count": 11,
   "id": "cubic-viewer",
   "metadata": {},
   "outputs": [],
   "source": [
    "question_input = Input(shape=(None,),dtype='int32',name='question')"
   ]
  },
  {
   "cell_type": "code",
   "execution_count": 12,
   "id": "functioning-religious",
   "metadata": {},
   "outputs": [],
   "source": [
    "qus_embedded_text = layers.Embedding(ques_vocab_size,32)(question_input)\n",
    "qus_encoded_text = layers.LSTM(16)(qus_embedded_text)"
   ]
  },
  {
   "cell_type": "code",
   "execution_count": 13,
   "id": "after-telling",
   "metadata": {},
   "outputs": [],
   "source": [
    "concatenated = layers.concatenate([encoded_text,qus_encoded_text],axis=-1)"
   ]
  },
  {
   "cell_type": "code",
   "execution_count": 14,
   "id": "written-halloween",
   "metadata": {},
   "outputs": [
    {
     "data": {
      "text/plain": [
       "TensorShape([None, 48])"
      ]
     },
     "execution_count": 14,
     "metadata": {},
     "output_type": "execute_result"
    }
   ],
   "source": [
    "concatenated.get_shape()"
   ]
  },
  {
   "cell_type": "code",
   "execution_count": 15,
   "id": "ignored-alignment",
   "metadata": {},
   "outputs": [],
   "source": [
    "answer = layers.Dense(ans_vocab_size,activation='softmax')(concatenated)"
   ]
  },
  {
   "cell_type": "code",
   "execution_count": 16,
   "id": "forty-choice",
   "metadata": {},
   "outputs": [
    {
     "data": {
      "text/plain": [
       "TensorShape([None, 500])"
      ]
     },
     "execution_count": 16,
     "metadata": {},
     "output_type": "execute_result"
    }
   ],
   "source": [
    "answer.get_shape()"
   ]
  },
  {
   "cell_type": "code",
   "execution_count": 17,
   "id": "healthy-ceremony",
   "metadata": {},
   "outputs": [],
   "source": [
    "model = Model([text_input, question_input], answer)"
   ]
  },
  {
   "cell_type": "code",
   "execution_count": 18,
   "id": "opposite-appearance",
   "metadata": {},
   "outputs": [],
   "source": [
    "model.compile(optimizer='rmsprop',loss='categorical_crossentropy',metrics=['acc'])"
   ]
  },
  {
   "cell_type": "code",
   "execution_count": 19,
   "id": "important-valley",
   "metadata": {},
   "outputs": [
    {
     "name": "stdout",
     "output_type": "stream",
     "text": [
      "Epoch 1/10\n",
      "8/8 [==============================] - 5s 39ms/step - loss: 0.0000e+00 - acc: 0.0016\n",
      "Epoch 2/10\n",
      "8/8 [==============================] - 0s 41ms/step - loss: 0.0000e+00 - acc: 0.0000e+00\n",
      "Epoch 3/10\n",
      "8/8 [==============================] - 0s 41ms/step - loss: 0.0000e+00 - acc: 0.0000e+00\n",
      "Epoch 4/10\n",
      "8/8 [==============================] - 0s 39ms/step - loss: 0.0000e+00 - acc: 0.0000e+00\n",
      "Epoch 5/10\n",
      "8/8 [==============================] - 0s 42ms/step - loss: 0.0000e+00 - acc: 0.0000e+00\n",
      "Epoch 6/10\n",
      "8/8 [==============================] - 0s 41ms/step - loss: 0.0000e+00 - acc: 0.0000e+00\n",
      "Epoch 7/10\n",
      "8/8 [==============================] - 0s 41ms/step - loss: 0.0000e+00 - acc: 0.0000e+00\n",
      "Epoch 8/10\n",
      "8/8 [==============================] - 0s 42ms/step - loss: 0.0000e+00 - acc: 0.0000e+00\n",
      "Epoch 9/10\n",
      "8/8 [==============================] - 0s 40ms/step - loss: 0.0000e+00 - acc: 0.0000e+00\n",
      "Epoch 10/10\n",
      "8/8 [==============================] - 0s 41ms/step - loss: 0.0000e+00 - acc: 0.0000e+00\n"
     ]
    }
   ],
   "source": [
    "history = model.fit({'text':text, 'question':question},answers,epochs=10, batch_size=128)"
   ]
  },
  {
   "cell_type": "code",
   "execution_count": null,
   "id": "historical-appreciation",
   "metadata": {},
   "outputs": [],
   "source": []
  }
 ],
 "metadata": {
  "kernelspec": {
   "display_name": "Python 3",
   "language": "python",
   "name": "python3"
  },
  "language_info": {
   "codemirror_mode": {
    "name": "ipython",
    "version": 3
   },
   "file_extension": ".py",
   "mimetype": "text/x-python",
   "name": "python",
   "nbconvert_exporter": "python",
   "pygments_lexer": "ipython3",
   "version": "3.6.9"
  }
 },
 "nbformat": 4,
 "nbformat_minor": 5
}
