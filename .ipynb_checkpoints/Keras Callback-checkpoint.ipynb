{
 "cells": [
  {
   "cell_type": "code",
   "execution_count": 1,
   "id": "raised-statement",
   "metadata": {},
   "outputs": [],
   "source": [
    "from tensorflow.keras.datasets import imdb\n",
    "\n",
    "from tensorflow.keras import preprocessing"
   ]
  },
  {
   "cell_type": "code",
   "execution_count": 18,
   "id": "manual-sampling",
   "metadata": {},
   "outputs": [
    {
     "name": "stderr",
     "output_type": "stream",
     "text": [
      "<string>:6: VisibleDeprecationWarning: Creating an ndarray from ragged nested sequences (which is a list-or-tuple of lists-or-tuples-or ndarrays with different lengths or shapes) is deprecated. If you meant to do this, you must specify 'dtype=object' when creating the ndarray\n",
      "/usr/local/lib/python3.6/dist-packages/tensorflow/python/keras/datasets/imdb.py:159: VisibleDeprecationWarning: Creating an ndarray from ragged nested sequences (which is a list-or-tuple of lists-or-tuples-or ndarrays with different lengths or shapes) is deprecated. If you meant to do this, you must specify 'dtype=object' when creating the ndarray\n",
      "  x_train, y_train = np.array(xs[:idx]), np.array(labels[:idx])\n",
      "/usr/local/lib/python3.6/dist-packages/tensorflow/python/keras/datasets/imdb.py:160: VisibleDeprecationWarning: Creating an ndarray from ragged nested sequences (which is a list-or-tuple of lists-or-tuples-or ndarrays with different lengths or shapes) is deprecated. If you meant to do this, you must specify 'dtype=object' when creating the ndarray\n",
      "  x_test, y_test = np.array(xs[idx:]), np.array(labels[idx:])\n"
     ]
    }
   ],
   "source": [
    "max_features = 10000 #top 10000 most common words only from the imdb movie reviews\n",
    "maxlen = 20 #cut off the reviews after only 20 words\n",
    "\n",
    "(x_train,y_train),(x_test,y_test) = imdb.load_data(num_words=max_features)"
   ]
  },
  {
   "cell_type": "code",
   "execution_count": 19,
   "id": "given-connectivity",
   "metadata": {},
   "outputs": [],
   "source": [
    "x_train_ = preprocessing.sequence.pad_sequences(x_train,maxlen=maxlen)\n",
    "x_test_ = preprocessing.sequence.pad_sequences(x_test,maxlen=maxlen)"
   ]
  },
  {
   "cell_type": "code",
   "execution_count": 20,
   "id": "nutritional-jacob",
   "metadata": {},
   "outputs": [],
   "source": [
    "from tensorflow.keras.models import Sequential\n",
    "from tensorflow.keras.layers import Flatten, Dense, Embedding"
   ]
  },
  {
   "cell_type": "code",
   "execution_count": 21,
   "id": "sharp-argument",
   "metadata": {},
   "outputs": [
    {
     "name": "stdout",
     "output_type": "stream",
     "text": [
      "Model: \"sequential_2\"\n",
      "_________________________________________________________________\n",
      "Layer (type)                 Output Shape              Param #   \n",
      "=================================================================\n",
      "embedding_2 (Embedding)      (None, 20, 8)             80000     \n",
      "_________________________________________________________________\n",
      "flatten_2 (Flatten)          (None, 160)               0         \n",
      "_________________________________________________________________\n",
      "dense_2 (Dense)              (None, 1)                 161       \n",
      "=================================================================\n",
      "Total params: 80,161\n",
      "Trainable params: 80,161\n",
      "Non-trainable params: 0\n",
      "_________________________________________________________________\n"
     ]
    }
   ],
   "source": [
    "model = Sequential()\n",
    "model.add(Embedding(max_features,8,input_length = maxlen))\n",
    "model.add(Flatten())\n",
    "model.add(Dense(1,activation='sigmoid'))\n",
    "model.compile(optimizer='rmsprop',loss='binary_crossentropy',metrics=['acc'])\n",
    "model.summary()"
   ]
  },
  {
   "cell_type": "code",
   "execution_count": 22,
   "id": "polyphonic-bench",
   "metadata": {},
   "outputs": [],
   "source": [
    "import tensorflow.keras as k"
   ]
  },
  {
   "cell_type": "code",
   "execution_count": 23,
   "id": "funky-birmingham",
   "metadata": {},
   "outputs": [],
   "source": [
    "callbacks_list = [k.callbacks.EarlyStopping(monitor='acc',patience=1),\n",
    "                 k.callbacks.ModelCheckpoint(filepath='my_model.h5',monitor='val_loss',save_best_only=True)]"
   ]
  },
  {
   "cell_type": "code",
   "execution_count": 24,
   "id": "vertical-reporter",
   "metadata": {},
   "outputs": [],
   "source": [
    "model.compile(optimizer='rmsprop',loss='binary_crossentropy',metrics=['acc'])"
   ]
  },
  {
   "cell_type": "code",
   "execution_count": 25,
   "id": "theoretical-reasoning",
   "metadata": {
    "scrolled": true
   },
   "outputs": [
    {
     "name": "stdout",
     "output_type": "stream",
     "text": [
      "Epoch 1/100\n",
      "200/200 [==============================] - 1s 4ms/step - loss: 0.6897 - acc: 0.5461 - val_loss: 0.6687 - val_acc: 0.6606\n",
      "Epoch 2/100\n",
      "200/200 [==============================] - 1s 3ms/step - loss: 0.6408 - acc: 0.7359 - val_loss: 0.5939 - val_acc: 0.7066\n",
      "Epoch 3/100\n",
      "200/200 [==============================] - 1s 4ms/step - loss: 0.5451 - acc: 0.7678 - val_loss: 0.5373 - val_acc: 0.7296\n",
      "Epoch 4/100\n",
      "200/200 [==============================] - 1s 3ms/step - loss: 0.4760 - acc: 0.7929 - val_loss: 0.5089 - val_acc: 0.7430\n",
      "Epoch 5/100\n",
      "200/200 [==============================] - 1s 3ms/step - loss: 0.4330 - acc: 0.8161 - val_loss: 0.4973 - val_acc: 0.7496\n",
      "Epoch 6/100\n",
      "200/200 [==============================] - 1s 3ms/step - loss: 0.4024 - acc: 0.8268 - val_loss: 0.4914 - val_acc: 0.7472\n",
      "Epoch 7/100\n",
      "200/200 [==============================] - 1s 3ms/step - loss: 0.3792 - acc: 0.8371 - val_loss: 0.4900 - val_acc: 0.7524\n",
      "Epoch 8/100\n",
      "200/200 [==============================] - 1s 3ms/step - loss: 0.3618 - acc: 0.8448 - val_loss: 0.4905 - val_acc: 0.7546\n",
      "Epoch 9/100\n",
      "200/200 [==============================] - 1s 3ms/step - loss: 0.3407 - acc: 0.8552 - val_loss: 0.4937 - val_acc: 0.7538\n",
      "Epoch 10/100\n",
      "200/200 [==============================] - 1s 3ms/step - loss: 0.3258 - acc: 0.8655 - val_loss: 0.4986 - val_acc: 0.7556\n",
      "Epoch 11/100\n",
      "200/200 [==============================] - 1s 3ms/step - loss: 0.3052 - acc: 0.8752 - val_loss: 0.5031 - val_acc: 0.7536\n",
      "Epoch 12/100\n",
      "200/200 [==============================] - 1s 3ms/step - loss: 0.2877 - acc: 0.8836 - val_loss: 0.5101 - val_acc: 0.7534\n",
      "Epoch 13/100\n",
      "200/200 [==============================] - 1s 3ms/step - loss: 0.2822 - acc: 0.8874 - val_loss: 0.5164 - val_acc: 0.7516\n",
      "Epoch 14/100\n",
      "200/200 [==============================] - 1s 3ms/step - loss: 0.2667 - acc: 0.8972 - val_loss: 0.5236 - val_acc: 0.7532\n",
      "Epoch 15/100\n",
      "200/200 [==============================] - 1s 3ms/step - loss: 0.2568 - acc: 0.9025 - val_loss: 0.5327 - val_acc: 0.7534\n",
      "Epoch 16/100\n",
      "200/200 [==============================] - 1s 3ms/step - loss: 0.2365 - acc: 0.9090 - val_loss: 0.5414 - val_acc: 0.7494\n",
      "Epoch 17/100\n",
      "200/200 [==============================] - 1s 3ms/step - loss: 0.2274 - acc: 0.9135 - val_loss: 0.5508 - val_acc: 0.7460\n",
      "Epoch 18/100\n",
      "200/200 [==============================] - 1s 3ms/step - loss: 0.2124 - acc: 0.9209 - val_loss: 0.5610 - val_acc: 0.7454\n",
      "Epoch 19/100\n",
      "200/200 [==============================] - 1s 3ms/step - loss: 0.1970 - acc: 0.9315 - val_loss: 0.5722 - val_acc: 0.7442\n",
      "Epoch 20/100\n",
      "200/200 [==============================] - 1s 3ms/step - loss: 0.1898 - acc: 0.9352 - val_loss: 0.5825 - val_acc: 0.7428\n",
      "Epoch 21/100\n",
      "200/200 [==============================] - 1s 3ms/step - loss: 0.1842 - acc: 0.9352 - val_loss: 0.5923 - val_acc: 0.7384\n",
      "Epoch 22/100\n",
      "200/200 [==============================] - 1s 4ms/step - loss: 0.1666 - acc: 0.9436 - val_loss: 0.6039 - val_acc: 0.7376\n",
      "Epoch 23/100\n",
      "200/200 [==============================] - 1s 4ms/step - loss: 0.1624 - acc: 0.9458 - val_loss: 0.6159 - val_acc: 0.7332\n",
      "Epoch 24/100\n",
      "200/200 [==============================] - 1s 3ms/step - loss: 0.1463 - acc: 0.9535 - val_loss: 0.6282 - val_acc: 0.7310\n",
      "Epoch 25/100\n",
      "200/200 [==============================] - 1s 3ms/step - loss: 0.1386 - acc: 0.9585 - val_loss: 0.6409 - val_acc: 0.7276\n",
      "Epoch 26/100\n",
      "200/200 [==============================] - 1s 3ms/step - loss: 0.1303 - acc: 0.9605 - val_loss: 0.6552 - val_acc: 0.7262\n",
      "Epoch 27/100\n",
      "200/200 [==============================] - 1s 5ms/step - loss: 0.1200 - acc: 0.9637 - val_loss: 0.6685 - val_acc: 0.7258\n",
      "Epoch 28/100\n",
      "200/200 [==============================] - 1s 4ms/step - loss: 0.1139 - acc: 0.9674 - val_loss: 0.6830 - val_acc: 0.7236\n",
      "Epoch 29/100\n",
      "200/200 [==============================] - 1s 4ms/step - loss: 0.1070 - acc: 0.9700 - val_loss: 0.6970 - val_acc: 0.7232\n",
      "Epoch 30/100\n",
      "200/200 [==============================] - 1s 4ms/step - loss: 0.1000 - acc: 0.9729 - val_loss: 0.7125 - val_acc: 0.7220\n",
      "Epoch 31/100\n",
      "200/200 [==============================] - 1s 4ms/step - loss: 0.0924 - acc: 0.9759 - val_loss: 0.7282 - val_acc: 0.7198\n",
      "Epoch 32/100\n",
      "200/200 [==============================] - 1s 4ms/step - loss: 0.0894 - acc: 0.9752 - val_loss: 0.7441 - val_acc: 0.7182\n",
      "Epoch 33/100\n",
      "200/200 [==============================] - 1s 4ms/step - loss: 0.0817 - acc: 0.9780 - val_loss: 0.7599 - val_acc: 0.7164\n",
      "Epoch 34/100\n",
      "200/200 [==============================] - 1s 4ms/step - loss: 0.0774 - acc: 0.9804 - val_loss: 0.7757 - val_acc: 0.7156\n",
      "Epoch 35/100\n",
      "200/200 [==============================] - 1s 4ms/step - loss: 0.0705 - acc: 0.9823 - val_loss: 0.7935 - val_acc: 0.7136\n",
      "Epoch 36/100\n",
      "200/200 [==============================] - 1s 4ms/step - loss: 0.0689 - acc: 0.9829 - val_loss: 0.8101 - val_acc: 0.7128\n",
      "Epoch 37/100\n",
      "200/200 [==============================] - 1s 4ms/step - loss: 0.0622 - acc: 0.9843 - val_loss: 0.8272 - val_acc: 0.7114\n",
      "Epoch 38/100\n",
      "200/200 [==============================] - 1s 4ms/step - loss: 0.0573 - acc: 0.9865 - val_loss: 0.8442 - val_acc: 0.7114\n",
      "Epoch 39/100\n",
      "200/200 [==============================] - 1s 4ms/step - loss: 0.0554 - acc: 0.9863 - val_loss: 0.8625 - val_acc: 0.7092\n",
      "Epoch 40/100\n",
      "200/200 [==============================] - 1s 4ms/step - loss: 0.0505 - acc: 0.9884 - val_loss: 0.8805 - val_acc: 0.7080\n",
      "Epoch 41/100\n",
      "200/200 [==============================] - 1s 4ms/step - loss: 0.0501 - acc: 0.9882 - val_loss: 0.8989 - val_acc: 0.7068\n",
      "Epoch 42/100\n",
      "200/200 [==============================] - 1s 4ms/step - loss: 0.0452 - acc: 0.9898 - val_loss: 0.9176 - val_acc: 0.7044\n",
      "Epoch 43/100\n",
      "200/200 [==============================] - 1s 4ms/step - loss: 0.0417 - acc: 0.9905 - val_loss: 0.9361 - val_acc: 0.7038\n",
      "Epoch 44/100\n",
      "200/200 [==============================] - 1s 4ms/step - loss: 0.0392 - acc: 0.9911 - val_loss: 0.9551 - val_acc: 0.7020\n",
      "Epoch 45/100\n",
      "200/200 [==============================] - 1s 4ms/step - loss: 0.0374 - acc: 0.9911 - val_loss: 0.9753 - val_acc: 0.7012\n",
      "Epoch 46/100\n",
      "200/200 [==============================] - 1s 4ms/step - loss: 0.0324 - acc: 0.9933 - val_loss: 0.9950 - val_acc: 0.6980\n",
      "Epoch 47/100\n",
      "200/200 [==============================] - 1s 4ms/step - loss: 0.0302 - acc: 0.9934 - val_loss: 1.0148 - val_acc: 0.6976\n",
      "Epoch 48/100\n",
      "200/200 [==============================] - 1s 4ms/step - loss: 0.0292 - acc: 0.9931 - val_loss: 1.0360 - val_acc: 0.6974\n",
      "Epoch 49/100\n",
      "200/200 [==============================] - 1s 4ms/step - loss: 0.0262 - acc: 0.9948 - val_loss: 1.0551 - val_acc: 0.6968\n",
      "Epoch 50/100\n",
      "200/200 [==============================] - 1s 4ms/step - loss: 0.0241 - acc: 0.9952 - val_loss: 1.0765 - val_acc: 0.6958\n",
      "Epoch 51/100\n",
      "200/200 [==============================] - 1s 4ms/step - loss: 0.0231 - acc: 0.9956 - val_loss: 1.0974 - val_acc: 0.6954\n",
      "Epoch 52/100\n",
      "200/200 [==============================] - 1s 4ms/step - loss: 0.0212 - acc: 0.9963 - val_loss: 1.1186 - val_acc: 0.6934\n",
      "Epoch 53/100\n",
      "200/200 [==============================] - 1s 4ms/step - loss: 0.0213 - acc: 0.9956 - val_loss: 1.1405 - val_acc: 0.6932\n",
      "Epoch 54/100\n",
      "200/200 [==============================] - 1s 4ms/step - loss: 0.0175 - acc: 0.9972 - val_loss: 1.1609 - val_acc: 0.6936\n",
      "Epoch 55/100\n",
      "200/200 [==============================] - 1s 4ms/step - loss: 0.0162 - acc: 0.9975 - val_loss: 1.1827 - val_acc: 0.6942\n",
      "Epoch 56/100\n",
      "200/200 [==============================] - 1s 4ms/step - loss: 0.0155 - acc: 0.9975 - val_loss: 1.2040 - val_acc: 0.6926\n",
      "Epoch 57/100\n",
      "200/200 [==============================] - 1s 4ms/step - loss: 0.0140 - acc: 0.9980 - val_loss: 1.2281 - val_acc: 0.6942\n",
      "Epoch 58/100\n",
      "200/200 [==============================] - 1s 4ms/step - loss: 0.0133 - acc: 0.9974 - val_loss: 1.2493 - val_acc: 0.6914\n",
      "Epoch 59/100\n",
      "200/200 [==============================] - 1s 4ms/step - loss: 0.0124 - acc: 0.9982 - val_loss: 1.2704 - val_acc: 0.6916\n",
      "Epoch 60/100\n",
      "200/200 [==============================] - 1s 4ms/step - loss: 0.0109 - acc: 0.9982 - val_loss: 1.2932 - val_acc: 0.6908\n"
     ]
    },
    {
     "data": {
      "text/plain": [
       "<tensorflow.python.keras.callbacks.History at 0x7f926946b780>"
      ]
     },
     "execution_count": 25,
     "metadata": {},
     "output_type": "execute_result"
    }
   ],
   "source": [
    "model.fit(x_train_,y_train,epochs=100,batch_size = 100,validation_split=0.2,callbacks=callbacks_list)"
   ]
  },
  {
   "cell_type": "code",
   "execution_count": null,
   "id": "neutral-atlanta",
   "metadata": {},
   "outputs": [],
   "source": []
  }
 ],
 "metadata": {
  "kernelspec": {
   "display_name": "Python 3",
   "language": "python",
   "name": "python3"
  },
  "language_info": {
   "codemirror_mode": {
    "name": "ipython",
    "version": 3
   },
   "file_extension": ".py",
   "mimetype": "text/x-python",
   "name": "python",
   "nbconvert_exporter": "python",
   "pygments_lexer": "ipython3",
   "version": "3.6.9"
  }
 },
 "nbformat": 4,
 "nbformat_minor": 5
}
