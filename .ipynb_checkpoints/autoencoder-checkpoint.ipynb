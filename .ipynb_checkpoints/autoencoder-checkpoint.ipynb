{
 "cells": [
  {
   "cell_type": "code",
   "execution_count": 1,
   "id": "economic-purpose",
   "metadata": {},
   "outputs": [],
   "source": [
    "from tensorflow.keras import Sequential, Model"
   ]
  },
  {
   "cell_type": "code",
   "execution_count": 36,
   "id": "scenic-beijing",
   "metadata": {},
   "outputs": [],
   "source": [
    "from tensorflow.keras.layers import Dense, Input\n",
    "from tensorflow.keras.datasets import mnist\n",
    "from tensorflow.keras.regularizers import l1\n",
    "from tensorflow.keras.optimizers import RMSprop\n",
    "import numpy as np\n",
    "import matplotlib.pyplot as plt"
   ]
  },
  {
   "cell_type": "code",
   "execution_count": 34,
   "id": "fuzzy-screen",
   "metadata": {},
   "outputs": [],
   "source": [
    "def plot_autoencoder_outputs(autoencoder, n, dims):\n",
    "    decoded_imgs = autoencoder.predict(x_test)\n",
    "\n",
    "    # number of example digits to show\n",
    "    n = 5\n",
    "    plt.figure(figsize=(10, 4.5))\n",
    "    for i in range(n):\n",
    "        # plot original image\n",
    "        ax = plt.subplot(2, n, i + 1)\n",
    "        plt.imshow(x_test[i].reshape(*dims))\n",
    "        plt.gray()\n",
    "        ax.get_xaxis().set_visible(False)\n",
    "        ax.get_yaxis().set_visible(False)\n",
    "        if i == n/2:\n",
    "            ax.set_title('Original Images')\n",
    "\n",
    "        # plot reconstruction \n",
    "        ax = plt.subplot(2, n, i + 1 + n)\n",
    "        plt.imshow(decoded_imgs[i].reshape(*dims))\n",
    "        plt.gray()\n",
    "        ax.get_xaxis().set_visible(False)\n",
    "        ax.get_yaxis().set_visible(False)\n",
    "        if i == n/2:\n",
    "            ax.set_title('Reconstructed Images')\n",
    "    plt.show()"
   ]
  },
  {
   "cell_type": "code",
   "execution_count": null,
   "id": "detailed-referral",
   "metadata": {},
   "outputs": [],
   "source": []
  },
  {
   "cell_type": "code",
   "execution_count": 22,
   "id": "related-potter",
   "metadata": {},
   "outputs": [],
   "source": [
    "(x_train, y_train) ,(x_test, y_test) = mnist.load_data()"
   ]
  },
  {
   "cell_type": "code",
   "execution_count": 23,
   "id": "southern-breathing",
   "metadata": {},
   "outputs": [],
   "source": [
    "x_train = x_train.astype('float')/255.0\n",
    "x_test = x_test.astype('float')/255.0"
   ]
  },
  {
   "cell_type": "code",
   "execution_count": 24,
   "id": "optical-maine",
   "metadata": {},
   "outputs": [
    {
     "data": {
      "text/plain": [
       "(60000, 28, 28)"
      ]
     },
     "execution_count": 24,
     "metadata": {},
     "output_type": "execute_result"
    }
   ],
   "source": [
    "x_train.shape"
   ]
  },
  {
   "cell_type": "code",
   "execution_count": 25,
   "id": "monthly-cycling",
   "metadata": {},
   "outputs": [],
   "source": [
    "x_train = x_train.reshape(len(x_train),np.prod(x_train.shape[1:]))\n",
    "x_test = x_test.reshape(len(x_test),np.prod(x_test.shape[1:]))"
   ]
  },
  {
   "cell_type": "code",
   "execution_count": 27,
   "id": "approximate-vision",
   "metadata": {},
   "outputs": [
    {
     "data": {
      "text/plain": [
       "((60000, 784), (10000, 784))"
      ]
     },
     "execution_count": 27,
     "metadata": {},
     "output_type": "execute_result"
    }
   ],
   "source": [
    "x_train.shape, x_test.shape"
   ]
  },
  {
   "cell_type": "code",
   "execution_count": 47,
   "id": "precious-geneva",
   "metadata": {},
   "outputs": [],
   "source": [
    "input_size = 784\n",
    "hidden_size = 128\n",
    "code_size = 34\n",
    "\n",
    "input_img = Input(shape=(input_size,))\n",
    "encoder = Dense(hidden_size,activation='relu')(input_img)\n",
    "code = Dense(code_size,activation='relu')(encoder)\n",
    "decoder = Dense(hidden_size,activation='relu')(code)\n",
    "output_img = Dense(input_size,activation='sigmoid')(decoder)"
   ]
  },
  {
   "cell_type": "code",
   "execution_count": 48,
   "id": "prime-flash",
   "metadata": {},
   "outputs": [],
   "source": [
    "autoencoder = Model(input_img,output_img)"
   ]
  },
  {
   "cell_type": "code",
   "execution_count": 49,
   "id": "integrated-organ",
   "metadata": {},
   "outputs": [
    {
     "name": "stdout",
     "output_type": "stream",
     "text": [
      "Epoch 1/4\n",
      "1875/1875 [==============================] - 2s 755us/step - loss: 0.1898\n",
      "Epoch 2/4\n",
      "1875/1875 [==============================] - 1s 748us/step - loss: 0.1009\n",
      "Epoch 3/4\n",
      "1875/1875 [==============================] - 1s 754us/step - loss: 0.0941\n",
      "Epoch 4/4\n",
      "1875/1875 [==============================] - 1s 755us/step - loss: 0.0910\n"
     ]
    },
    {
     "data": {
      "text/plain": [
       "<tensorflow.python.keras.callbacks.History at 0x7f9288403400>"
      ]
     },
     "execution_count": 49,
     "metadata": {},
     "output_type": "execute_result"
    }
   ],
   "source": [
    "autoencoder.compile(optimizer='adam',loss='binary_crossentropy')\n",
    "autoencoder.fit(x_train,x_train,epochs=4)"
   ]
  },
  {
   "cell_type": "code",
   "execution_count": 50,
   "id": "corporate-faith",
   "metadata": {},
   "outputs": [
    {
     "data": {
      "image/png": "[encoded data removed]",
      "text/plain": [
       "<Figure size 720x324 with 10 Axes>"
      ]
     },
     "metadata": {
      "needs_background": "light"
     },
     "output_type": "display_data"
    }
   ],
   "source": [
    "plot_autoencoder_outputs(autoencoder,5,(28,28))"
   ]
  },
  {
   "cell_type": "code",
   "execution_count": 51,
   "id": "loose-promise",
   "metadata": {},
   "outputs": [],
   "source": [
    "weights = autoencoder.get_weights()[0].T"
   ]
  },
  {
   "cell_type": "code",
   "execution_count": 52,
   "id": "increased-comparative",
   "metadata": {},
   "outputs": [
    {
     "data": {
      "image/png": "[encoded data removed]",
      "text/plain": [
       "<Figure size 1440x360 with 10 Axes>"
      ]
     },
     "metadata": {
      "needs_background": "light"
     },
     "output_type": "display_data"
    }
   ],
   "source": [
    "n = 10\n",
    "plt.figure(figsize=(20, 5))\n",
    "for i in range(n):\n",
    "    ax = plt.subplot(1, n, i + 1)\n",
    "    plt.imshow(weights[i+0].reshape(28, 28))\n",
    "    ax.get_xaxis().set_visible(False)\n",
    "    ax.get_yaxis().set_visible(False)"
   ]
  },
  {
   "cell_type": "code",
   "execution_count": 41,
   "id": "modular-trainer",
   "metadata": {},
   "outputs": [
    {
     "data": {
      "text/plain": [
       "array([[-0.0076407 ,  0.00478524, -0.0248846 , ..., -0.03443177,\n",
       "         0.01553861, -0.02856   ],\n",
       "       [ 0.03164048, -0.00876623, -0.02658454, ...,  0.01267413,\n",
       "         0.00282004, -0.04159721],\n",
       "       [ 0.07852023,  0.03170508,  0.02741506, ...,  0.07649641,\n",
       "        -0.02374554,  0.0788356 ],\n",
       "       ...,\n",
       "       [ 0.0589462 ,  0.06388304,  0.03163446, ..., -0.04811535,\n",
       "         0.0020983 , -0.0613389 ],\n",
       "       [-0.03219701,  0.07041895,  0.03574985, ...,  0.06406558,\n",
       "        -0.03783179,  0.04526483],\n",
       "       [-0.07415795,  0.03945374, -0.07151783, ...,  0.00206289,\n",
       "         0.06697802, -0.03925835]], dtype=float32)"
      ]
     },
     "execution_count": 41,
     "metadata": {},
     "output_type": "execute_result"
    }
   ],
   "source": [
    "weights"
   ]
  },
  {
   "cell_type": "code",
   "execution_count": null,
   "id": "every-links",
   "metadata": {},
   "outputs": [],
   "source": []
  }
 ],
 "metadata": {
  "kernelspec": {
   "display_name": "Python 3",
   "language": "python",
   "name": "python3"
  },
  "language_info": {
   "codemirror_mode": {
    "name": "ipython",
    "version": 3
   },
   "file_extension": ".py",
   "mimetype": "text/x-python",
   "name": "python",
   "nbconvert_exporter": "python",
   "pygments_lexer": "ipython3",
   "version": "3.6.9"
  }
 },
 "nbformat": 4,
 "nbformat_minor": 5
}
