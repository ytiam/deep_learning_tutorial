{
 "cells": [
  {
   "cell_type": "code",
   "execution_count": 1,
   "id": "located-presentation",
   "metadata": {},
   "outputs": [],
   "source": [
    "import numpy as np"
   ]
  },
  {
   "cell_type": "code",
   "execution_count": 2,
   "id": "selective-purpose",
   "metadata": {},
   "outputs": [],
   "source": [
    "timesteps = 100\n",
    "input_features = 32\n",
    "output_features = 64"
   ]
  },
  {
   "cell_type": "code",
   "execution_count": 3,
   "id": "embedded-frame",
   "metadata": {},
   "outputs": [],
   "source": [
    "inputs = np.random.random((timesteps,input_features))"
   ]
  },
  {
   "cell_type": "code",
   "execution_count": 4,
   "id": "encouraging-feedback",
   "metadata": {},
   "outputs": [],
   "source": [
    "state_t = np.zeros((output_features))"
   ]
  },
  {
   "cell_type": "code",
   "execution_count": 7,
   "id": "tutorial-transaction",
   "metadata": {},
   "outputs": [],
   "source": [
    "W = np.random.random((output_features,input_features))\n",
    "U = np.random.random((output_features,output_features))\n",
    "b = np.random.random((output_features,))"
   ]
  },
  {
   "cell_type": "code",
   "execution_count": 15,
   "id": "remarkable-waterproof",
   "metadata": {},
   "outputs": [],
   "source": [
    "successive_outputs = []\n",
    "\n",
    "for input_t in inputs:\n",
    "    output_t = np.tanh(np.dot(W, input_t) + np.dot(U, state_t) +b)\n",
    "    successive_outputs.append(output_t)\n",
    "    state_t = output_t"
   ]
  },
  {
   "cell_type": "code",
   "execution_count": 20,
   "id": "explicit-devon",
   "metadata": {},
   "outputs": [
    {
     "data": {
      "text/plain": [
       "100"
      ]
     },
     "execution_count": 20,
     "metadata": {},
     "output_type": "execute_result"
    }
   ],
   "source": [
    "len(successive_outputs)"
   ]
  },
  {
   "cell_type": "code",
   "execution_count": 27,
   "id": "wicked-anthropology",
   "metadata": {},
   "outputs": [],
   "source": [
    "final_output_sequence = np.concatenate(successive_outputs, axis=0)"
   ]
  },
  {
   "cell_type": "code",
   "execution_count": 28,
   "id": "future-serbia",
   "metadata": {},
   "outputs": [
    {
     "data": {
      "text/plain": [
       "(6400,)"
      ]
     },
     "execution_count": 28,
     "metadata": {},
     "output_type": "execute_result"
    }
   ],
   "source": [
    "final_output_sequence.shape"
   ]
  },
  {
   "cell_type": "code",
   "execution_count": 29,
   "id": "crucial-psychiatry",
   "metadata": {},
   "outputs": [
    {
     "data": {
      "text/plain": [
       "array([0.99999908, 0.99999994, 0.99999996, ..., 1.        , 1.        ,\n",
       "       1.        ])"
      ]
     },
     "execution_count": 29,
     "metadata": {},
     "output_type": "execute_result"
    }
   ],
   "source": [
    "final_output_sequence"
   ]
  },
  {
   "cell_type": "code",
   "execution_count": null,
   "id": "direct-religion",
   "metadata": {},
   "outputs": [],
   "source": []
  },
  {
   "cell_type": "markdown",
   "id": "anticipated-graham",
   "metadata": {},
   "source": [
    "### RNN in Keras"
   ]
  },
  {
   "cell_type": "code",
   "execution_count": 34,
   "id": "cardiovascular-toyota",
   "metadata": {},
   "outputs": [],
   "source": [
    "from tensorflow.keras.models import Sequential\n",
    "from tensorflow.keras.layers import Embedding, SimpleRNN, Dense"
   ]
  },
  {
   "cell_type": "code",
   "execution_count": 37,
   "id": "worse-highland",
   "metadata": {},
   "outputs": [
    {
     "name": "stdout",
     "output_type": "stream",
     "text": [
      "Model: \"sequential_2\"\n",
      "_________________________________________________________________\n",
      "Layer (type)                 Output Shape              Param #   \n",
      "=================================================================\n",
      "embedding_2 (Embedding)      (None, None, 32)          320000    \n",
      "_________________________________________________________________\n",
      "simple_rnn_2 (SimpleRNN)     (None, None, 32)          2080      \n",
      "_________________________________________________________________\n",
      "simple_rnn_3 (SimpleRNN)     (None, None, 32)          2080      \n",
      "_________________________________________________________________\n",
      "simple_rnn_4 (SimpleRNN)     (None, None, 32)          2080      \n",
      "_________________________________________________________________\n",
      "simple_rnn_5 (SimpleRNN)     (None, None, 32)          2080      \n",
      "_________________________________________________________________\n",
      "simple_rnn_6 (SimpleRNN)     (None, 32)                2080      \n",
      "_________________________________________________________________\n",
      "dense_1 (Dense)              (None, 1)                 33        \n",
      "=================================================================\n",
      "Total params: 330,433\n",
      "Trainable params: 330,433\n",
      "Non-trainable params: 0\n",
      "_________________________________________________________________\n"
     ]
    }
   ],
   "source": [
    "model = Sequential()\n",
    "model.add(Embedding(10000,32))\n",
    "## Stacking of several recurrent layers to increase representational power of the network\n",
    "## Intermediate RNN layers have to return sequences\n",
    "model.add(SimpleRNN(32,return_sequences=True))\n",
    "model.add(SimpleRNN(32,return_sequences=True))\n",
    "model.add(SimpleRNN(32,return_sequences=True))\n",
    "model.add(SimpleRNN(32,return_sequences=True))\n",
    "model.add(SimpleRNN(32))\n",
    "model.add(Dense(1))\n",
    "model.summary()"
   ]
  },
  {
   "cell_type": "markdown",
   "id": "amazing-artist",
   "metadata": {},
   "source": [
    "### Apply RNN on IMDB movie review dataset"
   ]
  },
  {
   "cell_type": "markdown",
   "id": "honey-armstrong",
   "metadata": {},
   "source": [
    "#### Preparing the IMDB data"
   ]
  },
  {
   "cell_type": "code",
   "execution_count": 40,
   "id": "anonymous-feeding",
   "metadata": {},
   "outputs": [],
   "source": [
    "from tensorflow.keras.datasets import imdb\n",
    "from tensorflow.keras.preprocessing import sequence"
   ]
  },
  {
   "cell_type": "code",
   "execution_count": 41,
   "id": "further-semiconductor",
   "metadata": {},
   "outputs": [],
   "source": [
    "max_features = 10000 # number of words to consider\n",
    "max_length = 500 # cut off texts after max_features most common words\n",
    "batch_size = 32"
   ]
  },
  {
   "cell_type": "code",
   "execution_count": 69,
   "id": "equal-transparency",
   "metadata": {},
   "outputs": [
    {
     "name": "stderr",
     "output_type": "stream",
     "text": [
      "<string>:6: VisibleDeprecationWarning: Creating an ndarray from ragged nested sequences (which is a list-or-tuple of lists-or-tuples-or ndarrays with different lengths or shapes) is deprecated. If you meant to do this, you must specify 'dtype=object' when creating the ndarray\n",
      "/usr/local/lib/python3.6/dist-packages/tensorflow/python/keras/datasets/imdb.py:159: VisibleDeprecationWarning: Creating an ndarray from ragged nested sequences (which is a list-or-tuple of lists-or-tuples-or ndarrays with different lengths or shapes) is deprecated. If you meant to do this, you must specify 'dtype=object' when creating the ndarray\n",
      "  x_train, y_train = np.array(xs[:idx]), np.array(labels[:idx])\n",
      "/usr/local/lib/python3.6/dist-packages/tensorflow/python/keras/datasets/imdb.py:160: VisibleDeprecationWarning: Creating an ndarray from ragged nested sequences (which is a list-or-tuple of lists-or-tuples-or ndarrays with different lengths or shapes) is deprecated. If you meant to do this, you must specify 'dtype=object' when creating the ndarray\n",
      "  x_test, y_test = np.array(xs[idx:]), np.array(labels[idx:])\n"
     ]
    }
   ],
   "source": [
    "(x_train, y_train), (x_test, y_test) = imdb.load_data(num_words=max_features)"
   ]
  },
  {
   "cell_type": "code",
   "execution_count": 70,
   "id": "pleasant-difference",
   "metadata": {},
   "outputs": [
    {
     "data": {
      "text/plain": [
       "((25000,), (25000,))"
      ]
     },
     "execution_count": 70,
     "metadata": {},
     "output_type": "execute_result"
    }
   ],
   "source": [
    "x_train.shape, x_test.shape"
   ]
  },
  {
   "cell_type": "code",
   "execution_count": 71,
   "id": "equivalent-major",
   "metadata": {},
   "outputs": [],
   "source": [
    "x_train = sequence.pad_sequences(x_train,maxlen=max_length,padding='pre')\n",
    "x_test = sequence.pad_sequences(x_test,maxlen=max_length,padding='pre')"
   ]
  },
  {
   "cell_type": "code",
   "execution_count": 72,
   "id": "retired-water",
   "metadata": {},
   "outputs": [
    {
     "data": {
      "text/plain": [
       "array([500])"
      ]
     },
     "execution_count": 72,
     "metadata": {},
     "output_type": "execute_result"
    }
   ],
   "source": [
    "np.unique([len(i) for i in x_train])"
   ]
  },
  {
   "cell_type": "code",
   "execution_count": 83,
   "id": "modern-gibraltar",
   "metadata": {},
   "outputs": [
    {
     "name": "stdout",
     "output_type": "stream",
     "text": [
      "Model: \"sequential_8\"\n",
      "_________________________________________________________________\n",
      "Layer (type)                 Output Shape              Param #   \n",
      "=================================================================\n",
      "embedding_8 (Embedding)      (None, None, 32)          320000    \n",
      "_________________________________________________________________\n",
      "simple_rnn_18 (SimpleRNN)    (None, None, 32)          2080      \n",
      "_________________________________________________________________\n",
      "simple_rnn_19 (SimpleRNN)    (None, 32)                2080      \n",
      "_________________________________________________________________\n",
      "dense_7 (Dense)              (None, 1)                 33        \n",
      "=================================================================\n",
      "Total params: 324,193\n",
      "Trainable params: 324,193\n",
      "Non-trainable params: 0\n",
      "_________________________________________________________________\n"
     ]
    }
   ],
   "source": [
    "model = Sequential()\n",
    "model.add(Embedding(10000,32))\n",
    "## Stacking of several recurrent layers to increase representational power of the network\n",
    "## Intermediate RNN layers have to return sequences\n",
    "model.add(SimpleRNN(32,return_sequences=True))\n",
    "#model.add(SimpleRNN(32,return_sequences=True))\n",
    "#model.add(SimpleRNN(32,return_sequences=True))\n",
    "#model.add(SimpleRNN(32,return_sequences=True))\n",
    "model.add(SimpleRNN(32))\n",
    "model.add(Dense(1, activation='sigmoid'))\n",
    "model.summary()"
   ]
  },
  {
   "cell_type": "code",
   "execution_count": 84,
   "id": "directed-gentleman",
   "metadata": {},
   "outputs": [],
   "source": [
    "model.compile(optimizer='rmsprop',loss='binary_crossentropy',metrics=['acc'])"
   ]
  },
  {
   "cell_type": "code",
   "execution_count": 85,
   "id": "dangerous-bulgarian",
   "metadata": {},
   "outputs": [
    {
     "name": "stdout",
     "output_type": "stream",
     "text": [
      "Epoch 1/10\n",
      "157/157 [==============================] - 97s 608ms/step - loss: 0.6735 - acc: 0.5566 - val_loss: 0.4278 - val_acc: 0.8132\n",
      "Epoch 2/10\n",
      "157/157 [==============================] - 98s 624ms/step - loss: 0.3915 - acc: 0.8303 - val_loss: 0.3805 - val_acc: 0.8372\n",
      "Epoch 3/10\n",
      "157/157 [==============================] - 100s 636ms/step - loss: 0.2659 - acc: 0.8981 - val_loss: 0.4979 - val_acc: 0.8196\n",
      "Epoch 4/10\n",
      "157/157 [==============================] - 96s 609ms/step - loss: 0.1850 - acc: 0.9300 - val_loss: 0.5168 - val_acc: 0.7972\n",
      "Epoch 5/10\n",
      "157/157 [==============================] - 105s 668ms/step - loss: 0.0970 - acc: 0.9666 - val_loss: 0.5978 - val_acc: 0.7870\n",
      "Epoch 6/10\n",
      "157/157 [==============================] - 104s 660ms/step - loss: 0.0467 - acc: 0.9860 - val_loss: 0.7274 - val_acc: 0.7710\n",
      "Epoch 7/10\n",
      "157/157 [==============================] - 104s 665ms/step - loss: 0.0214 - acc: 0.9939 - val_loss: 0.7858 - val_acc: 0.8108\n",
      "Epoch 8/10\n",
      "157/157 [==============================] - 103s 654ms/step - loss: 0.0201 - acc: 0.9950 - val_loss: 0.8210 - val_acc: 0.8086\n",
      "Epoch 9/10\n",
      "157/157 [==============================] - 97s 620ms/step - loss: 0.0096 - acc: 0.9973 - val_loss: 0.9071 - val_acc: 0.8072\n",
      "Epoch 10/10\n",
      "157/157 [==============================] - 100s 639ms/step - loss: 0.0068 - acc: 0.9979 - val_loss: 0.9899 - val_acc: 0.7958\n"
     ]
    }
   ],
   "source": [
    "his = model.fit(x_train,y_train,epochs=10,batch_size=batch_size*4,validation_split=0.2)"
   ]
  },
  {
   "cell_type": "code",
   "execution_count": 80,
   "id": "classified-geology",
   "metadata": {},
   "outputs": [],
   "source": [
    "def compare_plots_(train,val,metric):\n",
    "    import matplotlib.pyplot as plt\n",
    "    epochs = range(1,len(train)+1)\n",
    "    plt.plot(epochs,train,'bo',label='Training %s'%(metric))\n",
    "    plt.plot(epochs,val,'r-',label='Validation %s'%(metric))\n",
    "    plt.title('Training and Validation %s'%(metric))\n",
    "    plt.legend()\n",
    "    plt.show()"
   ]
  },
  {
   "cell_type": "code",
   "execution_count": 86,
   "id": "complete-horse",
   "metadata": {},
   "outputs": [],
   "source": [
    "train_acc = his.history['acc']\n",
    "val_acc = his.history['val_acc']"
   ]
  },
  {
   "cell_type": "code",
   "execution_count": 82,
   "id": "textile-measurement",
   "metadata": {},
   "outputs": [
    {
     "data": {
      "image/png": "[encoded data removed]",
      "text/plain": [
       "<Figure size 432x288 with 1 Axes>"
      ]
     },
     "metadata": {
      "needs_background": "light"
     },
     "output_type": "display_data"
    }
   ],
   "source": [
    "compare_plots_(train_acc, val_acc, 'accuracy')"
   ]
  },
  {
   "cell_type": "code",
   "execution_count": 87,
   "id": "green-threshold",
   "metadata": {},
   "outputs": [
    {
     "data": {
      "image/png": "[encoded data removed]",
      "text/plain": [
       "<Figure size 432x288 with 1 Axes>"
      ]
     },
     "metadata": {
      "needs_background": "light"
     },
     "output_type": "display_data"
    }
   ],
   "source": [
    "compare_plots_(train_acc, val_acc, 'accuracy')"
   ]
  },
  {
   "cell_type": "markdown",
   "id": "straight-foundation",
   "metadata": {},
   "source": [
    "### LSTM"
   ]
  },
  {
   "cell_type": "code",
   "execution_count": 88,
   "id": "congressional-diana",
   "metadata": {},
   "outputs": [],
   "source": [
    "from tensorflow.keras.layers import LSTM"
   ]
  },
  {
   "cell_type": "code",
   "execution_count": 89,
   "id": "artistic-pitch",
   "metadata": {},
   "outputs": [
    {
     "name": "stdout",
     "output_type": "stream",
     "text": [
      "Model: \"sequential_9\"\n",
      "_________________________________________________________________\n",
      "Layer (type)                 Output Shape              Param #   \n",
      "=================================================================\n",
      "embedding_9 (Embedding)      (None, None, 32)          320000    \n",
      "_________________________________________________________________\n",
      "lstm (LSTM)                  (None, None, 32)          8320      \n",
      "_________________________________________________________________\n",
      "lstm_1 (LSTM)                (None, 32)                8320      \n",
      "_________________________________________________________________\n",
      "dense_8 (Dense)              (None, 1)                 33        \n",
      "=================================================================\n",
      "Total params: 336,673\n",
      "Trainable params: 336,673\n",
      "Non-trainable params: 0\n",
      "_________________________________________________________________\n"
     ]
    }
   ],
   "source": [
    "model = Sequential()\n",
    "model.add(Embedding(10000,32))\n",
    "## Stacking of several recurrent layers to increase representational power of the network\n",
    "## Intermediate RNN layers have to return sequences\n",
    "model.add(LSTM(32,return_sequences=True))\n",
    "#model.add(SimpleRNN(32,return_sequences=True))\n",
    "#model.add(SimpleRNN(32,return_sequences=True))\n",
    "#model.add(SimpleRNN(32,return_sequences=True))\n",
    "model.add(LSTM(32))\n",
    "model.add(Dense(1, activation='sigmoid'))\n",
    "model.summary()"
   ]
  },
  {
   "cell_type": "code",
   "execution_count": 90,
   "id": "radio-finish",
   "metadata": {},
   "outputs": [
    {
     "name": "stdout",
     "output_type": "stream",
     "text": [
      "Epoch 1/10\n",
      "157/157 [==============================] - 51s 198ms/step - loss: 0.5771 - acc: 0.6842 - val_loss: 0.3281 - val_acc: 0.8644\n",
      "Epoch 2/10\n",
      "157/157 [==============================] - 28s 177ms/step - loss: 0.2897 - acc: 0.8865 - val_loss: 0.2928 - val_acc: 0.8786\n",
      "Epoch 3/10\n",
      "157/157 [==============================] - 28s 176ms/step - loss: 0.2307 - acc: 0.9132 - val_loss: 0.4328 - val_acc: 0.8526\n",
      "Epoch 4/10\n",
      "157/157 [==============================] - 29s 188ms/step - loss: 0.2002 - acc: 0.9265 - val_loss: 0.3234 - val_acc: 0.8908\n",
      "Epoch 5/10\n",
      "157/157 [==============================] - 31s 199ms/step - loss: 0.1655 - acc: 0.9386 - val_loss: 0.3024 - val_acc: 0.8740\n",
      "Epoch 6/10\n",
      "157/157 [==============================] - 32s 204ms/step - loss: 0.1393 - acc: 0.9507 - val_loss: 0.4306 - val_acc: 0.8800\n",
      "Epoch 7/10\n",
      "157/157 [==============================] - 32s 201ms/step - loss: 0.1370 - acc: 0.9515 - val_loss: 0.3966 - val_acc: 0.8808\n",
      "Epoch 8/10\n",
      "157/157 [==============================] - 32s 204ms/step - loss: 0.1143 - acc: 0.9612 - val_loss: 0.4312 - val_acc: 0.8732\n",
      "Epoch 9/10\n",
      "157/157 [==============================] - 28s 181ms/step - loss: 0.1180 - acc: 0.9594 - val_loss: 0.3721 - val_acc: 0.8838\n",
      "Epoch 10/10\n",
      "157/157 [==============================] - 28s 181ms/step - loss: 0.1001 - acc: 0.9666 - val_loss: 0.4925 - val_acc: 0.8612\n"
     ]
    }
   ],
   "source": [
    "model.compile(optimizer='rmsprop',loss='binary_crossentropy',metrics=['acc'])\n",
    "his = model.fit(x_train,y_train,epochs=10,batch_size=batch_size*4,validation_split=0.2)"
   ]
  },
  {
   "cell_type": "code",
   "execution_count": 91,
   "id": "hairy-instrument",
   "metadata": {},
   "outputs": [],
   "source": [
    "train_acc = his.history['acc']\n",
    "val_acc = his.history['val_acc']"
   ]
  },
  {
   "cell_type": "code",
   "execution_count": 92,
   "id": "weighted-agent",
   "metadata": {},
   "outputs": [
    {
     "data": {
      "image/png": "[encoded data removed]",
      "text/plain": [
       "<Figure size 432x288 with 1 Axes>"
      ]
     },
     "metadata": {
      "needs_background": "light"
     },
     "output_type": "display_data"
    }
   ],
   "source": [
    "compare_plots_(train_acc, val_acc, 'accuracy')"
   ]
  },
  {
   "cell_type": "code",
   "execution_count": null,
   "id": "middle-imagination",
   "metadata": {},
   "outputs": [],
   "source": []
  }
 ],
 "metadata": {
  "kernelspec": {
   "display_name": "Python 3",
   "language": "python",
   "name": "python3"
  },
  "language_info": {
   "codemirror_mode": {
    "name": "ipython",
    "version": 3
   },
   "file_extension": ".py",
   "mimetype": "text/x-python",
   "name": "python",
   "nbconvert_exporter": "python",
   "pygments_lexer": "ipython3",
   "version": "3.6.9"
  }
 },
 "nbformat": 4,
 "nbformat_minor": 5
}
