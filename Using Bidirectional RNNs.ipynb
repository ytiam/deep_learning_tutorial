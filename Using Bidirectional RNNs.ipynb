{
 "cells": [
  {
   "cell_type": "code",
   "execution_count": 28,
   "id": "tested-forestry",
   "metadata": {},
   "outputs": [],
   "source": [
    "from tensorflow.keras.models import Sequential\n",
    "from tensorflow.keras import layers\n",
    "from tensorflow.keras.preprocessing import sequence\n",
    "from tensorflow.keras.datasets import imdb\n",
    "from graph_plot import compare_plots_"
   ]
  },
  {
   "cell_type": "code",
   "execution_count": 2,
   "id": "liquid-antique",
   "metadata": {},
   "outputs": [
    {
     "name": "stderr",
     "output_type": "stream",
     "text": [
      "<string>:6: VisibleDeprecationWarning: Creating an ndarray from ragged nested sequences (which is a list-or-tuple of lists-or-tuples-or ndarrays with different lengths or shapes) is deprecated. If you meant to do this, you must specify 'dtype=object' when creating the ndarray\n",
      "/usr/local/lib/python3.6/dist-packages/tensorflow/python/keras/datasets/imdb.py:159: VisibleDeprecationWarning: Creating an ndarray from ragged nested sequences (which is a list-or-tuple of lists-or-tuples-or ndarrays with different lengths or shapes) is deprecated. If you meant to do this, you must specify 'dtype=object' when creating the ndarray\n",
      "  x_train, y_train = np.array(xs[:idx]), np.array(labels[:idx])\n",
      "/usr/local/lib/python3.6/dist-packages/tensorflow/python/keras/datasets/imdb.py:160: VisibleDeprecationWarning: Creating an ndarray from ragged nested sequences (which is a list-or-tuple of lists-or-tuples-or ndarrays with different lengths or shapes) is deprecated. If you meant to do this, you must specify 'dtype=object' when creating the ndarray\n",
      "  x_test, y_test = np.array(xs[idx:]), np.array(labels[idx:])\n"
     ]
    }
   ],
   "source": [
    "max_features = 10000\n",
    "maxlen = 200\n",
    "(x_train,y_train),(x_test,y_test) = imdb.load_data(num_words=max_features)"
   ]
  },
  {
   "cell_type": "code",
   "execution_count": 4,
   "id": "modern-peoples",
   "metadata": {},
   "outputs": [],
   "source": [
    "# x_train = [x[::-1] for x in x_train]"
   ]
  },
  {
   "cell_type": "code",
   "execution_count": 5,
   "id": "lightweight-metro",
   "metadata": {},
   "outputs": [],
   "source": [
    "# x_test = [x[::-1] for x in x_test]"
   ]
  },
  {
   "cell_type": "code",
   "execution_count": 3,
   "id": "regular-vision",
   "metadata": {},
   "outputs": [],
   "source": [
    "x_train = sequence.pad_sequences(x_train,maxlen=maxlen)\n",
    "x_test = sequence.pad_sequences(x_test,maxlen=maxlen)"
   ]
  },
  {
   "cell_type": "code",
   "execution_count": 22,
   "id": "partial-latin",
   "metadata": {},
   "outputs": [],
   "source": [
    "model = Sequential()\n",
    "model.add(layers.Embedding(max_features,32))"
   ]
  },
  {
   "cell_type": "code",
   "execution_count": 23,
   "id": "better-islam",
   "metadata": {},
   "outputs": [
    {
     "name": "stdout",
     "output_type": "stream",
     "text": [
      "WARNING:tensorflow:Layer lstm_8 will not use cuDNN kernel since it doesn't meet the cuDNN kernel criteria. It will use generic GPU kernel as fallback when running on GPU\n",
      "WARNING:tensorflow:Layer lstm_8 will not use cuDNN kernel since it doesn't meet the cuDNN kernel criteria. It will use generic GPU kernel as fallback when running on GPU\n",
      "WARNING:tensorflow:Layer lstm_8 will not use cuDNN kernel since it doesn't meet the cuDNN kernel criteria. It will use generic GPU kernel as fallback when running on GPU\n"
     ]
    }
   ],
   "source": [
    "model.add(layers.Bidirectional(layers.LSTM(32, dropout = 0.3, recurrent_dropout=0.8)))"
   ]
  },
  {
   "cell_type": "code",
   "execution_count": 24,
   "id": "academic-terrorist",
   "metadata": {},
   "outputs": [],
   "source": [
    "model.add(layers.Dense(100,activation='relu'))\n",
    "model.add(layers.Dropout(0.2))\n",
    "model.add(layers.Dense(1,activation='sigmoid'))"
   ]
  },
  {
   "cell_type": "code",
   "execution_count": 25,
   "id": "fixed-wheat",
   "metadata": {},
   "outputs": [
    {
     "name": "stdout",
     "output_type": "stream",
     "text": [
      "Model: \"sequential_4\"\n",
      "_________________________________________________________________\n",
      "Layer (type)                 Output Shape              Param #   \n",
      "=================================================================\n",
      "embedding_4 (Embedding)      (None, None, 32)          320000    \n",
      "_________________________________________________________________\n",
      "bidirectional_4 (Bidirection (None, 64)                16640     \n",
      "_________________________________________________________________\n",
      "dense_2 (Dense)              (None, 100)               6500      \n",
      "_________________________________________________________________\n",
      "dropout (Dropout)            (None, 100)               0         \n",
      "_________________________________________________________________\n",
      "dense_3 (Dense)              (None, 1)                 101       \n",
      "=================================================================\n",
      "Total params: 343,241\n",
      "Trainable params: 343,241\n",
      "Non-trainable params: 0\n",
      "_________________________________________________________________\n"
     ]
    }
   ],
   "source": [
    "model.summary()"
   ]
  },
  {
   "cell_type": "code",
   "execution_count": 26,
   "id": "operating-unemployment",
   "metadata": {},
   "outputs": [],
   "source": [
    "model.compile(optimizer='rmsprop',loss='binary_crossentropy',metrics=['acc'])"
   ]
  },
  {
   "cell_type": "code",
   "execution_count": 27,
   "id": "foster-fisher",
   "metadata": {},
   "outputs": [
    {
     "name": "stdout",
     "output_type": "stream",
     "text": [
      "Epoch 1/10\n",
      "157/157 [==============================] - 229s 1s/step - loss: 0.6108 - acc: 0.6395 - val_loss: 0.4861 - val_acc: 0.7870\n",
      "Epoch 2/10\n",
      "157/157 [==============================] - 216s 1s/step - loss: 0.3546 - acc: 0.8523 - val_loss: 0.5508 - val_acc: 0.7796\n",
      "Epoch 3/10\n",
      "157/157 [==============================] - 212s 1s/step - loss: 0.2983 - acc: 0.8836 - val_loss: 0.2955 - val_acc: 0.8842\n",
      "Epoch 4/10\n",
      "157/157 [==============================] - 220s 1s/step - loss: 0.2626 - acc: 0.9000 - val_loss: 0.4259 - val_acc: 0.8432\n",
      "Epoch 5/10\n",
      "157/157 [==============================] - 225s 1s/step - loss: 0.2462 - acc: 0.9078 - val_loss: 0.3712 - val_acc: 0.8736\n",
      "Epoch 6/10\n",
      "157/157 [==============================] - 226s 1s/step - loss: 0.2199 - acc: 0.9172 - val_loss: 0.5030 - val_acc: 0.8704\n",
      "Epoch 7/10\n",
      "157/157 [==============================] - 217s 1s/step - loss: 0.1976 - acc: 0.9294 - val_loss: 0.7298 - val_acc: 0.7764\n",
      "Epoch 8/10\n",
      "157/157 [==============================] - 195s 1s/step - loss: 0.1959 - acc: 0.9262 - val_loss: 0.4428 - val_acc: 0.8720\n",
      "Epoch 9/10\n",
      "157/157 [==============================] - 233s 1s/step - loss: 0.1755 - acc: 0.9369 - val_loss: 0.5738 - val_acc: 0.8616\n",
      "Epoch 10/10\n",
      "157/157 [==============================] - 225s 1s/step - loss: 0.1639 - acc: 0.9414 - val_loss: 0.5479 - val_acc: 0.8502\n"
     ]
    }
   ],
   "source": [
    "#after many iterations epoch=8 with the above setup works best \n",
    "history = model.fit(x_train, y_train,epochs=8,batch_size=128,validation_split=0.2) "
   ]
  },
  {
   "cell_type": "code",
   "execution_count": 29,
   "id": "limited-adobe",
   "metadata": {},
   "outputs": [],
   "source": [
    "train_acc = history.history['acc']\n",
    "val_acc = history.history['val_acc']"
   ]
  },
  {
   "cell_type": "code",
   "execution_count": 30,
   "id": "previous-birthday",
   "metadata": {},
   "outputs": [
    {
     "data": {
      "image/png": "[encoded data removed]",
      "text/plain": [
       "<Figure size 432x288 with 1 Axes>"
      ]
     },
     "metadata": {
      "needs_background": "light"
     },
     "output_type": "display_data"
    }
   ],
   "source": [
    "compare_plots_(train_acc,val_acc,'accuracy')"
   ]
  },
  {
   "cell_type": "code",
   "execution_count": null,
   "id": "european-acrobat",
   "metadata": {},
   "outputs": [],
   "source": []
  },
  {
   "cell_type": "code",
   "execution_count": null,
   "id": "regional-victory",
   "metadata": {},
   "outputs": [],
   "source": []
  },
  {
   "cell_type": "code",
   "execution_count": null,
   "id": "prepared-barcelona",
   "metadata": {},
   "outputs": [],
   "source": []
  },
  {
   "cell_type": "code",
   "execution_count": null,
   "id": "tired-console",
   "metadata": {},
   "outputs": [],
   "source": []
  }
 ],
 "metadata": {
  "kernelspec": {
   "display_name": "Python 3",
   "language": "python",
   "name": "python3"
  },
  "language_info": {
   "codemirror_mode": {
    "name": "ipython",
    "version": 3
   },
   "file_extension": ".py",
   "mimetype": "text/x-python",
   "name": "python",
   "nbconvert_exporter": "python",
   "pygments_lexer": "ipython3",
   "version": "3.6.9"
  }
 },
 "nbformat": 4,
 "nbformat_minor": 5
}
