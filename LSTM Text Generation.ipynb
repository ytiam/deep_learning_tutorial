{
 "cells": [
  {
   "cell_type": "code",
   "execution_count": 1,
   "id": "rental-billy",
   "metadata": {},
   "outputs": [],
   "source": [
    "from tensorflow.keras.layers import Dense\n",
    "from tensorflow.keras import layers\n",
    "from tensorflow import keras\n",
    "import numpy as np"
   ]
  },
  {
   "cell_type": "code",
   "execution_count": 2,
   "id": "sonic-afghanistan",
   "metadata": {},
   "outputs": [],
   "source": [
    "import tensorflow as tf\n",
    "from tensorflow import keras"
   ]
  },
  {
   "cell_type": "code",
   "execution_count": 3,
   "id": "viral-analysis",
   "metadata": {},
   "outputs": [],
   "source": [
    "gpu_devices = tf.config.experimental.list_physical_devices(\"GPU\")\n",
    "for device in gpu_devices:\n",
    "    tf.config.experimental.set_memory_growth(device, True)"
   ]
  },
  {
   "cell_type": "code",
   "execution_count": 4,
   "id": "simplified-greeting",
   "metadata": {},
   "outputs": [],
   "source": [
    "path = keras.utils.get_file('nietzsche.txt',origin='https://s3.amazonaws.com/text-datasets/nietzsche.txt')"
   ]
  },
  {
   "cell_type": "code",
   "execution_count": 5,
   "id": "characteristic-pension",
   "metadata": {},
   "outputs": [],
   "source": [
    "text = open(path).read().lower()"
   ]
  },
  {
   "cell_type": "code",
   "execution_count": 6,
   "id": "plastic-hostel",
   "metadata": {},
   "outputs": [
    {
     "data": {
      "text/plain": [
       "600893"
      ]
     },
     "execution_count": 6,
     "metadata": {},
     "output_type": "execute_result"
    }
   ],
   "source": [
    "len(text)"
   ]
  },
  {
   "cell_type": "code",
   "execution_count": 7,
   "id": "treated-strength",
   "metadata": {},
   "outputs": [],
   "source": [
    "maxlen = 60 #extract sequences of 60 characters\n",
    "step = 3\n",
    "sentences = []\n",
    "next_chars = []\n",
    "for i in range(0,len(text)-maxlen,step):\n",
    "    sentences.append(text[i:i+maxlen])\n",
    "    next_chars.append(text[i+maxlen])"
   ]
  },
  {
   "cell_type": "code",
   "execution_count": 8,
   "id": "alone-rough",
   "metadata": {},
   "outputs": [
    {
     "name": "stdout",
     "output_type": "stream",
     "text": [
      "Number of sequences:  200278\n"
     ]
    }
   ],
   "source": [
    "print('Number of sequences: ', len(sentences))"
   ]
  },
  {
   "cell_type": "code",
   "execution_count": 9,
   "id": "tested-cassette",
   "metadata": {},
   "outputs": [],
   "source": [
    "chars = sorted(list(set(text)))"
   ]
  },
  {
   "cell_type": "code",
   "execution_count": 10,
   "id": "periodic-chrome",
   "metadata": {},
   "outputs": [],
   "source": [
    "char_indices = dict((char,chars.index(char)) for char in chars)"
   ]
  },
  {
   "cell_type": "code",
   "execution_count": 11,
   "id": "several-trunk",
   "metadata": {},
   "outputs": [
    {
     "name": "stdout",
     "output_type": "stream",
     "text": [
      "Vectorization...\n"
     ]
    }
   ],
   "source": [
    "print('Vectorization...')\n",
    "x = np.zeros((len(sentences),maxlen,len(chars)),dtype=np.bool)\n",
    "y = np.zeros((len(sentences),len(chars)),dtype=np.bool)"
   ]
  },
  {
   "cell_type": "code",
   "execution_count": 12,
   "id": "italian-syndrome",
   "metadata": {},
   "outputs": [],
   "source": [
    "for i, sentence in enumerate(sentences):\n",
    "    for t, char in enumerate(sentence):\n",
    "        x[i,t,char_indices[char]] = 1\n",
    "    y[i,char_indices[next_chars[i]]] = 1"
   ]
  },
  {
   "cell_type": "code",
   "execution_count": 13,
   "id": "visible-evans",
   "metadata": {},
   "outputs": [],
   "source": [
    "model = keras.models.Sequential()\n",
    "model.add(layers.LSTM(128, input_shape=(maxlen,len(chars))))\n",
    "model.add(layers.Dense(len(chars),activation='softmax'))"
   ]
  },
  {
   "cell_type": "code",
   "execution_count": 14,
   "id": "unlike-sperm",
   "metadata": {},
   "outputs": [
    {
     "name": "stdout",
     "output_type": "stream",
     "text": [
      "Model: \"sequential\"\n",
      "_________________________________________________________________\n",
      "Layer (type)                 Output Shape              Param #   \n",
      "=================================================================\n",
      "lstm (LSTM)                  (None, 128)               95232     \n",
      "_________________________________________________________________\n",
      "dense (Dense)                (None, 57)                7353      \n",
      "=================================================================\n",
      "Total params: 102,585\n",
      "Trainable params: 102,585\n",
      "Non-trainable params: 0\n",
      "_________________________________________________________________\n"
     ]
    }
   ],
   "source": [
    "model.summary()"
   ]
  },
  {
   "cell_type": "code",
   "execution_count": 15,
   "id": "brilliant-defeat",
   "metadata": {},
   "outputs": [],
   "source": [
    "optimizer = keras.optimizers.RMSprop(lr=0.01)\n",
    "model.compile(loss='categorical_crossentropy',optimizer=optimizer)"
   ]
  },
  {
   "cell_type": "code",
   "execution_count": 16,
   "id": "unnecessary-parker",
   "metadata": {},
   "outputs": [],
   "source": [
    "def sample(preds,temparature):\n",
    "    preds = np.asarray(preds).astype('float64')\n",
    "    preds = np.log(preds)/temparature\n",
    "    exp_preds = np.exp(preds)\n",
    "    preds = exp_preds/np.sum(exp_preds)\n",
    "    probas = np.random.multinomial(1,preds,1)\n",
    "    return np.argmax(probas)"
   ]
  },
  {
   "cell_type": "code",
   "execution_count": 17,
   "id": "remarkable-opening",
   "metadata": {},
   "outputs": [],
   "source": [
    "import random\n",
    "import sys"
   ]
  },
  {
   "cell_type": "code",
   "execution_count": 18,
   "id": "corporate-classroom",
   "metadata": {},
   "outputs": [],
   "source": [
    "# model.fit(x,y,batch_size=128,epochs=1)\n",
    "# start_index = random.randint(0,len(text)-maxlen-1)\n",
    "# generated_text = text[start_index:start_index+maxlen]\n",
    "# sys.stdout.write(generated_text)\n",
    "# ---------------------------------\n",
    "# sampled = np.zeros((1,maxlen,len(chars)))\n",
    "\n",
    "# preds = model.predict(sampled)[0]\n",
    "# preds = np.asarray(preds).astype('float64')\n",
    "# preds >= np.max(preds)\n",
    "# preds = np.log(preds)/0.5\n",
    "# exp_preds = np.exp(preds)\n",
    "# preds = exp_preds/np.sum(exp_preds)\n",
    "# preds >= np.max(preds)\n",
    "# probas = np.random.multinomial(1,preds,1)\n",
    "# np.argmax(probas)"
   ]
  },
  {
   "cell_type": "code",
   "execution_count": null,
   "id": "found-grammar",
   "metadata": {},
   "outputs": [],
   "source": []
  },
  {
   "cell_type": "code",
   "execution_count": null,
   "id": "noble-lodge",
   "metadata": {},
   "outputs": [],
   "source": []
  },
  {
   "cell_type": "code",
   "execution_count": 19,
   "id": "pending-script",
   "metadata": {
    "scrolled": true
   },
   "outputs": [
    {
     "name": "stdout",
     "output_type": "stream",
     "text": [
      "epoch 1\n",
      "1565/1565 [==============================] - 66s 41ms/step - loss: 2.2675\n",
      "\n",
      "--- Generating with seed:  oo much, about the\n",
      "philosophy of this god, and, as i said, f\n",
      "\n",
      "--- temparature 0.5\n",
      "oo much, about the\n",
      "philosophy of this god, and, as i said, for the latter, and soul and pats and such here the parn of his species of the what itself, the torme\n",
      "--- temparature 1.0\n",
      "h here the parn of his species of the what itself, the tormeage himself, and there\n",
      "inlight rught, that de beness notly strund to\n",
      "maciin free asese of man inahvoepoch 2\n",
      "1565/1565 [==============================] - 62s 40ms/step - loss: 1.6116\n",
      "\n",
      "--- Generating with seed:  ink, for instance, of the greater part of the\n",
      "self-appreciat\n",
      "\n",
      "--- temparature 0.5\n",
      "ink, for instance, of the greater part of the\n",
      "self-appreciation, nowadays the free discover to it is now was a those lays to man is takes to the state no and so\n",
      "--- temparature 1.0\n",
      " now was a those lays to man is takes to the state no and soucticd not to man those does tuthercwipvation loved stort\n",
      "be indeptian. also nut; thewerly even it aepoch 3\n",
      "1565/1565 [==============================] - 62s 40ms/step - loss: 1.5233\n",
      "\n",
      "--- Generating with seed:  f a church or a court, or conformable\n",
      "to aristotelian premis\n",
      "\n",
      "--- temparature 0.5\n",
      "f a church or a court, or conformable\n",
      "to aristotelian premising the most the doman and can to perhaps the\n",
      "suffers the case, and in the farous of subjection of t\n",
      "--- temparature 1.0\n",
      "s the\n",
      "suffers the case, and in the farous of subjection of the\n",
      "-nor a gale, b-denl\n",
      "genius, what reverw had nolivele and a distrumanic, is nothely,\" in owe it reepoch 4\n",
      "1565/1565 [==============================] - 62s 40ms/step - loss: 1.4787\n",
      "\n",
      "--- Generating with seed:  nder the whole of christo-european\n",
      "morality--suffers from an\n",
      "\n",
      "--- temparature 0.5\n",
      "nder the whole of christo-european\n",
      "morality--suffers from any not a weaker has to suchelled the great\n",
      "as with the waint contemptate the\n",
      "condent to be should act\n",
      "--- temparature 1.0\n",
      "t\n",
      "as with the waint contemptate the\n",
      "condent to be should acts same degrant so not he who le soul of the priistine of fact of ethiestory of ofisial are generativepoch 5\n",
      "1565/1565 [==============================] - 62s 39ms/step - loss: 1.4473\n",
      "\n",
      "--- Generating with seed:  reduction to insignificance,\n",
      "a burning and destruction of th\n",
      "\n",
      "--- temparature 0.5\n",
      "reduction to insignificance,\n",
      "a burning and destruction of the exist the soul as they they \"indeed there and artist and and the own law of the latest of an and i\n",
      "--- temparature 1.0\n",
      "ere and artist and and the own law of the latest of an and in\n",
      "the habitule\n",
      "error and at leartimentic as a lofther of a bleak no strengtes, if the intaismation, epoch 6\n",
      "1565/1565 [==============================] - 62s 39ms/step - loss: 1.4266\n",
      "\n",
      "--- Generating with seed:  ss to what degree life has disgusted them, by the extent to \n",
      "\n",
      "--- temparature 0.5\n",
      "ss to what degree life has disgusted them, by the extent to the signification the state the evil of the subject in which we are have the state and\n",
      "such a pronou\n",
      "--- temparature 1.0\n",
      "the subject in which we are have the state and\n",
      "such a pronounce by so ;a yountur,\n",
      "about along maken inevive is attenation, laugh so \"compacising without suind cepoch 7\n",
      "1565/1565 [==============================] - 62s 39ms/step - loss: 1.4103\n",
      "\n",
      "--- Generating with seed:  ders hovers before our\n",
      "eyes:--is it lawful for me to say it \n",
      "\n",
      "--- temparature 0.5\n",
      "ders hovers before our\n",
      "eyes:--is it lawful for me to say it will fore may be discersing, and in the consequently subtle consciences and such a man found he live\n",
      "--- temparature 1.0\n",
      "consequently subtle consciences and such a man found he live of\n",
      "\n",
      "at the intellees althuman satism; fortentarinesd extended conthand to thinks for distunbaring, epoch 8\n",
      "1565/1565 [==============================] - 62s 40ms/step - loss: 1.3948\n",
      "\n",
      "--- Generating with seed:   we dance in our \"chains\" and betwixt our \"swords\"; it\n",
      "is no\n",
      "\n",
      "--- temparature 0.5\n",
      " we dance in our \"chains\" and betwixt our \"swords\"; it\n",
      "is not be something man who has self-can for in the point in the even in the world of estimate the erroru\n",
      "--- temparature 1.0\n",
      "in the point in the even in the world of estimate the erroruenced, however, selficted\n",
      "and\n",
      "is there faith taken,\n",
      "the synthest from confusisisy of\n",
      "the possess andepoch 9\n",
      "1565/1565 [==============================] - 62s 39ms/step - loss: 1.3839\n",
      "\n",
      "--- Generating with seed:  aps serve this age as its mirror and self\n",
      "reflector, when th\n",
      "\n",
      "--- temparature 0.5\n",
      "aps serve this age as its mirror and self\n",
      "reflector, when the matter and all interpretation of the more one must be a will in the sign of the surprised to clear\n",
      "--- temparature 1.0\n",
      "ore one must be a will in the sign of the surprised to clear , or discieding our revolution and arises in his pertrimitally classes from mamificious on\" alorgelepoch 10\n",
      "1565/1565 [==============================] - 61s 39ms/step - loss: 1.3739\n",
      "\n",
      "--- Generating with seed:  fe in god,\"\n",
      "regarded in this light, would appear as the most\n",
      "\n",
      "--- temparature 0.5\n",
      "fe in god,\"\n",
      "regarded in this light, would appear as the most case, apparent of interpretation and highest servile them and more self-very nobleness and even tha\n",
      "--- temparature 1.0\n",
      "ghest servile them and more self-very nobleness and even that our herpk and aly putte is\n",
      "regarling descrition! of hope of converted make bettes that it systems epoch 11\n",
      "1565/1565 [==============================] - 62s 39ms/step - loss: 1.3644\n",
      "\n",
      "--- Generating with seed:  ous snares for human judgment and\n",
      "deduction, and will contin\n",
      "\n",
      "--- temparature 0.5\n",
      "ous snares for human judgment and\n",
      "deduction, and will continue conscience, but it is all the same still philosophy of the same himself to the experience of the \n",
      "--- temparature 1.0\n",
      "ill philosophy of the same himself to the experience of the slatial have those moralsxy.\n",
      "\n",
      "123i.\n",
      "\n",
      "                unuljusiuobly beugety believed thoughts, now thepoch 12\n",
      "1565/1565 [==============================] - 62s 39ms/step - loss: 1.3559\n",
      "\n",
      "--- Generating with seed:  requiring it to be so. a man who has depths in his shame mee\n",
      "\n",
      "--- temparature 0.5\n",
      "requiring it to be so. a man who has depths in his shame meet the hard of disclifition of the man is implising has been has a manifest of the same possible to w\n",
      "--- temparature 1.0\n",
      " implising has been has a manifest of the same possible to whwhwer, and for the liuth is not not communing former burd,\n",
      "s in: he in now discovered in all no-adgepoch 13\n",
      "1565/1565 [==============================] - 62s 39ms/step - loss: 1.3503\n",
      "\n",
      "--- Generating with seed:  indeed many kinds of sensations) are\n",
      "to be recognized as ing\n",
      "\n",
      "--- temparature 0.5\n",
      "indeed many kinds of sensations) are\n",
      "to be recognized as ingreasition of the opposing see is the spirit and condition of it with the interrible to the souls of \n",
      "--- temparature 1.0\n",
      "rit and condition of it with the interrible to the souls of ensummencion. he\n",
      "inhealite as far from the attented; to the dicgaitf? but volupted to fully he one mepoch 14\n",
      "1565/1565 [==============================] - 62s 39ms/step - loss: 1.3446\n",
      "\n",
      "--- Generating with seed:   the type \"man\"): the truth is hard. let us acknowledge\n",
      "unpr\n",
      "\n",
      "--- temparature 0.5\n",
      " the type \"man\"): the truth is hard. let us acknowledge\n",
      "unpressing the present and man is might who is all this falled it is not the self-standings and subtlety\n",
      "--- temparature 1.0\n",
      "is all this falled it is not the self-standings and subtlety over thiok may be\n",
      "standpoint of man, as did\n",
      "old\n",
      "axious difficuar, the\n",
      "it is there and wis how as amepoch 15\n",
      "1565/1565 [==============================] - 62s 39ms/step - loss: 1.3392\n",
      "\n",
      "--- Generating with seed:  new tower of babel, some monstrosity\n",
      "of empire and power, th\n",
      "\n",
      "--- temparature 0.5\n",
      "new tower of babel, some monstrosity\n",
      "of empire and power, the world as in the contrait of the degree of all destiny of his superficial to realities and etestime\n",
      "--- temparature 1.0\n",
      " of all destiny of his superficial to realities and etestiment of ethics (very erroaman thereby have experienced, the\n",
      "difference of feadible, as well to dangeroepoch 16\n",
      "1565/1565 [==============================] - 62s 39ms/step - loss: 1.3335\n",
      "\n",
      "--- Generating with seed:  forts. \"my opinion is my opinion:\n",
      "another person has not eas\n",
      "\n",
      "--- temparature 0.5\n",
      "forts. \"my opinion is my opinion:\n"
     ]
    },
    {
     "name": "stdout",
     "output_type": "stream",
     "text": [
      "another person has not easies and the done, and the dealistic in the same present more other strong the world and the destruis\n",
      "--- temparature 1.0\n",
      "he same present more other strong the world and the destruisive claims\n",
      "of adcertain of this exkstained thereas: it is herain as was so the gethech a\n",
      "high for\n",
      "inepoch 17\n",
      "1565/1565 [==============================] - 62s 39ms/step - loss: 1.3300\n",
      "\n",
      "--- Generating with seed:  have been told, \"it addresses itself to\n",
      "men free from the pr\n",
      "\n",
      "--- temparature 0.5\n",
      "have been told, \"it addresses itself to\n",
      "men free from the present that one is does not an actions of the sense--and in the stupidly for the strength and the str\n",
      "--- temparature 1.0\n",
      " the sense--and in the stupidly for the strength and the stronger to greatness, them--an its work the generac but but onjy\n",
      "origin of mand and disciences of whomepoch 18\n",
      "1565/1565 [==============================] - 62s 39ms/step - loss: 1.3256\n",
      "\n",
      "--- Generating with seed:  ot denote that the existence of\n",
      "a thing is known in any way \n",
      "\n",
      "--- temparature 0.5\n",
      "ot denote that the existence of\n",
      "a thing is known in any way and subliming and in the present the religion of the servies to conscious one who has to be manifest\n",
      "--- temparature 1.0\n",
      "igion of the servies to conscious one who has to be manifests to this tome called harphle sake in be sology from seriousness of the last at a sead to predisped epoch 19\n",
      "1565/1565 [==============================] - 62s 39ms/step - loss: 1.3210\n",
      "\n",
      "--- Generating with seed:  severe discipline and even severe\n",
      "words. he will say: \"there\n",
      "\n",
      "--- temparature 0.5\n",
      "severe discipline and even severe\n",
      "words. he will say: \"there as the a sumberble does the art to little with the great consider the errors, and such humanity in \n",
      "--- temparature 1.0\n",
      "le with the great consider the errors, and such humanity in \"martases, who have imposs to there, who can be is caes to many is believer punces acts. even whethe"
     ]
    }
   ],
   "source": [
    "for epoch in range(1,20):\n",
    "    print('epoch',epoch)\n",
    "    model.fit(x,y,batch_size=128,epochs=1)\n",
    "    start_index = random.randint(0,len(text)-maxlen-1)\n",
    "    generated_text = text[start_index:start_index+maxlen]\n",
    "    print('\\n--- Generating with seed: ',generated_text)\n",
    "    \n",
    "    for temparature in [0.5,1.0]:\n",
    "        print('\\n--- temparature',temparature)\n",
    "        sys.stdout.write(generated_text)\n",
    "        \n",
    "        for i in range(100):\n",
    "            sampled = np.zeros((1,maxlen,len(chars)))\n",
    "            for t, char in enumerate(generated_text):\n",
    "                sampled[0,t,char_indices[char]] = 1\n",
    "            preds = model.predict(sampled, verbose=0)[0]\n",
    "            next_index = sample(preds,temparature)\n",
    "            next_char = chars[next_index]\n",
    "            \n",
    "            generated_text += next_char\n",
    "            generated_text = generated_text[1:]\n",
    "            sys.stdout.write(next_char)"
   ]
  },
  {
   "cell_type": "code",
   "execution_count": 6,
   "id": "controlling-check",
   "metadata": {},
   "outputs": [],
   "source": []
  },
  {
   "cell_type": "code",
   "execution_count": null,
   "id": "endless-parliament",
   "metadata": {},
   "outputs": [],
   "source": []
  }
 ],
 "metadata": {
  "kernelspec": {
   "display_name": "Python 3",
   "language": "python",
   "name": "python3"
  },
  "language_info": {
   "codemirror_mode": {
    "name": "ipython",
    "version": 3
   },
   "file_extension": ".py",
   "mimetype": "text/x-python",
   "name": "python",
   "nbconvert_exporter": "python",
   "pygments_lexer": "ipython3",
   "version": "3.6.9"
  }
 },
 "nbformat": 4,
 "nbformat_minor": 5
}
