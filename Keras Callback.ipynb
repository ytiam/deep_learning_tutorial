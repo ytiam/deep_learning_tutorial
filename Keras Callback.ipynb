{
 "cells": [
  {
   "cell_type": "code",
   "execution_count": 1,
   "id": "lightweight-relay",
   "metadata": {},
   "outputs": [],
   "source": [
    "from tensorflow.keras.datasets import imdb\n",
    "\n",
    "from tensorflow.keras import preprocessing"
   ]
  },
  {
   "cell_type": "code",
   "execution_count": 2,
   "id": "hairy-reserve",
   "metadata": {},
   "outputs": [
    {
     "name": "stderr",
     "output_type": "stream",
     "text": [
      "<string>:6: VisibleDeprecationWarning: Creating an ndarray from ragged nested sequences (which is a list-or-tuple of lists-or-tuples-or ndarrays with different lengths or shapes) is deprecated. If you meant to do this, you must specify 'dtype=object' when creating the ndarray\n",
      "/usr/local/lib/python3.6/dist-packages/tensorflow/python/keras/datasets/imdb.py:159: VisibleDeprecationWarning: Creating an ndarray from ragged nested sequences (which is a list-or-tuple of lists-or-tuples-or ndarrays with different lengths or shapes) is deprecated. If you meant to do this, you must specify 'dtype=object' when creating the ndarray\n",
      "  x_train, y_train = np.array(xs[:idx]), np.array(labels[:idx])\n",
      "/usr/local/lib/python3.6/dist-packages/tensorflow/python/keras/datasets/imdb.py:160: VisibleDeprecationWarning: Creating an ndarray from ragged nested sequences (which is a list-or-tuple of lists-or-tuples-or ndarrays with different lengths or shapes) is deprecated. If you meant to do this, you must specify 'dtype=object' when creating the ndarray\n",
      "  x_test, y_test = np.array(xs[idx:]), np.array(labels[idx:])\n"
     ]
    }
   ],
   "source": [
    "max_features = 10000 #top 10000 most common words only from the imdb movie reviews\n",
    "maxlen = 20 #cut off the reviews after only 20 words\n",
    "\n",
    "(x_train,y_train),(x_test,y_test) = imdb.load_data(num_words=max_features)"
   ]
  },
  {
   "cell_type": "code",
   "execution_count": 3,
   "id": "chemical-judge",
   "metadata": {},
   "outputs": [],
   "source": [
    "x_train_ = preprocessing.sequence.pad_sequences(x_train,maxlen=maxlen)\n",
    "x_test_ = preprocessing.sequence.pad_sequences(x_test,maxlen=maxlen)"
   ]
  },
  {
   "cell_type": "code",
   "execution_count": 4,
   "id": "animal-turkey",
   "metadata": {},
   "outputs": [],
   "source": [
    "from tensorflow.keras.models import Sequential\n",
    "from tensorflow.keras.layers import Flatten, Dense, Embedding"
   ]
  },
  {
   "cell_type": "code",
   "execution_count": 5,
   "id": "going-playback",
   "metadata": {},
   "outputs": [
    {
     "name": "stdout",
     "output_type": "stream",
     "text": [
      "Model: \"sequential\"\n",
      "_________________________________________________________________\n",
      "Layer (type)                 Output Shape              Param #   \n",
      "=================================================================\n",
      "embedding (Embedding)        (None, 20, 8)             80000     \n",
      "_________________________________________________________________\n",
      "flatten (Flatten)            (None, 160)               0         \n",
      "_________________________________________________________________\n",
      "dense (Dense)                (None, 32)                5152      \n",
      "_________________________________________________________________\n",
      "dense_1 (Dense)              (None, 1)                 33        \n",
      "=================================================================\n",
      "Total params: 85,185\n",
      "Trainable params: 85,185\n",
      "Non-trainable params: 0\n",
      "_________________________________________________________________\n"
     ]
    }
   ],
   "source": [
    "model = Sequential()\n",
    "model.add(Embedding(max_features,8,input_length = maxlen))\n",
    "model.add(Flatten())\n",
    "model.add(Dense(32,activation='relu'))\n",
    "model.add(Dense(1,activation='sigmoid'))\n",
    "model.compile(optimizer='rmsprop',loss='binary_crossentropy',metrics=['acc'])\n",
    "model.summary()"
   ]
  },
  {
   "cell_type": "code",
   "execution_count": 6,
   "id": "false-affiliate",
   "metadata": {},
   "outputs": [],
   "source": [
    "import tensorflow.keras as k"
   ]
  },
  {
   "cell_type": "code",
   "execution_count": 7,
   "id": "graphic-citizenship",
   "metadata": {},
   "outputs": [],
   "source": [
    "callbacks_list = [k.callbacks.EarlyStopping(monitor='acc',patience=1),\n",
    "                 k.callbacks.ModelCheckpoint(filepath='my_model.h5',monitor='val_loss',save_best_only=True)]"
   ]
  },
  {
   "cell_type": "code",
   "execution_count": 8,
   "id": "infectious-response",
   "metadata": {},
   "outputs": [],
   "source": [
    "model.compile(optimizer='rmsprop',loss='binary_crossentropy',metrics=['acc'])"
   ]
  },
  {
   "cell_type": "code",
   "execution_count": 9,
   "id": "continued-honey",
   "metadata": {
    "scrolled": true
   },
   "outputs": [
    {
     "name": "stdout",
     "output_type": "stream",
     "text": [
      "Epoch 1/100\n",
      "200/200 [==============================] - 2s 2ms/step - loss: 0.6877 - acc: 0.5459 - val_loss: 0.6057 - val_acc: 0.6966\n",
      "Epoch 2/100\n",
      "200/200 [==============================] - 0s 1ms/step - loss: 0.5401 - acc: 0.7572 - val_loss: 0.5034 - val_acc: 0.7400\n",
      "Epoch 3/100\n",
      "200/200 [==============================] - 0s 1ms/step - loss: 0.4124 - acc: 0.8128 - val_loss: 0.5012 - val_acc: 0.7464\n",
      "Epoch 4/100\n",
      "200/200 [==============================] - 0s 1ms/step - loss: 0.3496 - acc: 0.8527 - val_loss: 0.5217 - val_acc: 0.7438\n",
      "Epoch 5/100\n",
      "200/200 [==============================] - 0s 1ms/step - loss: 0.2918 - acc: 0.8830 - val_loss: 0.5545 - val_acc: 0.7446\n",
      "Epoch 6/100\n",
      "200/200 [==============================] - 0s 1ms/step - loss: 0.2403 - acc: 0.9063 - val_loss: 0.5916 - val_acc: 0.7358\n",
      "Epoch 7/100\n",
      "200/200 [==============================] - 0s 1ms/step - loss: 0.1977 - acc: 0.9275 - val_loss: 0.6377 - val_acc: 0.7314\n",
      "Epoch 8/100\n",
      "200/200 [==============================] - 0s 1ms/step - loss: 0.1667 - acc: 0.9445 - val_loss: 0.6966 - val_acc: 0.7210\n",
      "Epoch 9/100\n",
      "200/200 [==============================] - 0s 1ms/step - loss: 0.1282 - acc: 0.9569 - val_loss: 0.7558 - val_acc: 0.7144\n",
      "Epoch 10/100\n",
      "200/200 [==============================] - 0s 1ms/step - loss: 0.1079 - acc: 0.9645 - val_loss: 0.8262 - val_acc: 0.7120\n",
      "Epoch 11/100\n",
      "200/200 [==============================] - 0s 1ms/step - loss: 0.0834 - acc: 0.9752 - val_loss: 0.9035 - val_acc: 0.7056\n",
      "Epoch 12/100\n",
      "200/200 [==============================] - 0s 1ms/step - loss: 0.0667 - acc: 0.9805 - val_loss: 0.9877 - val_acc: 0.7078\n",
      "Epoch 13/100\n",
      "200/200 [==============================] - 0s 1ms/step - loss: 0.0527 - acc: 0.9856 - val_loss: 1.0823 - val_acc: 0.7044\n",
      "Epoch 14/100\n",
      "200/200 [==============================] - 0s 1ms/step - loss: 0.0385 - acc: 0.9903 - val_loss: 1.1722 - val_acc: 0.7012\n",
      "Epoch 15/100\n",
      "200/200 [==============================] - 0s 1ms/step - loss: 0.0302 - acc: 0.9916 - val_loss: 1.2756 - val_acc: 0.6962\n",
      "Epoch 16/100\n",
      "200/200 [==============================] - 0s 1ms/step - loss: 0.0242 - acc: 0.9946 - val_loss: 1.3639 - val_acc: 0.6994\n",
      "Epoch 17/100\n",
      "200/200 [==============================] - 0s 1ms/step - loss: 0.0143 - acc: 0.9973 - val_loss: 1.4759 - val_acc: 0.6896\n",
      "Epoch 18/100\n",
      "200/200 [==============================] - 0s 1ms/step - loss: 0.0121 - acc: 0.9975 - val_loss: 1.5827 - val_acc: 0.6964\n",
      "Epoch 19/100\n",
      "200/200 [==============================] - 0s 1ms/step - loss: 0.0077 - acc: 0.9984 - val_loss: 1.6908 - val_acc: 0.6896\n",
      "Epoch 20/100\n",
      "200/200 [==============================] - 0s 1ms/step - loss: 0.0066 - acc: 0.9987 - val_loss: 1.8227 - val_acc: 0.6860\n",
      "Epoch 21/100\n",
      "200/200 [==============================] - 0s 1ms/step - loss: 0.0050 - acc: 0.9992 - val_loss: 1.9603 - val_acc: 0.6882\n",
      "Epoch 22/100\n",
      "200/200 [==============================] - 0s 1ms/step - loss: 0.0022 - acc: 0.9996 - val_loss: 2.0910 - val_acc: 0.6846\n",
      "Epoch 23/100\n",
      "200/200 [==============================] - 0s 1ms/step - loss: 0.0023 - acc: 0.9994 - val_loss: 2.2285 - val_acc: 0.6820\n",
      "Epoch 24/100\n",
      "200/200 [==============================] - 0s 1ms/step - loss: 0.0016 - acc: 0.9996 - val_loss: 2.3605 - val_acc: 0.6812\n",
      "Epoch 25/100\n",
      "200/200 [==============================] - 0s 1ms/step - loss: 6.2917e-04 - acc: 0.9999 - val_loss: 2.5161 - val_acc: 0.6762\n",
      "Epoch 26/100\n",
      "200/200 [==============================] - 0s 1ms/step - loss: 6.7359e-04 - acc: 0.9998 - val_loss: 2.6479 - val_acc: 0.6800\n"
     ]
    },
    {
     "data": {
      "text/plain": [
       "<tensorflow.python.keras.callbacks.History at 0x7fb1435a66a0>"
      ]
     },
     "execution_count": 9,
     "metadata": {},
     "output_type": "execute_result"
    }
   ],
   "source": [
    "model.fit(x_train_,y_train,epochs=100,batch_size = 100,validation_split=0.2,callbacks=callbacks_list)"
   ]
  },
  {
   "cell_type": "code",
   "execution_count": null,
   "id": "hungarian-bottom",
   "metadata": {},
   "outputs": [],
   "source": []
  }
 ],
 "metadata": {
  "kernelspec": {
   "display_name": "Python 3",
   "language": "python",
   "name": "python3"
  },
  "language_info": {
   "codemirror_mode": {
    "name": "ipython",
    "version": 3
   },
   "file_extension": ".py",
   "mimetype": "text/x-python",
   "name": "python",
   "nbconvert_exporter": "python",
   "pygments_lexer": "ipython3",
   "version": "3.6.9"
  }
 },
 "nbformat": 4,
 "nbformat_minor": 5
}
