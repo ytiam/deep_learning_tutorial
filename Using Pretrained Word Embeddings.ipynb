{
 "cells": [
  {
   "cell_type": "code",
   "execution_count": 1,
   "id": "quiet-pollution",
   "metadata": {},
   "outputs": [],
   "source": [
    "import os"
   ]
  },
  {
   "cell_type": "code",
   "execution_count": 2,
   "id": "hearing-element",
   "metadata": {},
   "outputs": [],
   "source": [
    "imdb_dir = 'data/aclImdb/'\n",
    "train_dir = os.path.join(imdb_dir,'train')"
   ]
  },
  {
   "cell_type": "code",
   "execution_count": 3,
   "id": "alpha-combine",
   "metadata": {},
   "outputs": [],
   "source": [
    "labels = []\n",
    "texts = []"
   ]
  },
  {
   "cell_type": "code",
   "execution_count": 4,
   "id": "distinct-request",
   "metadata": {},
   "outputs": [],
   "source": [
    "for label_type in ['neg','pos']:\n",
    "    dir_name = os.path.join(train_dir,label_type)\n",
    "    for fname in os.listdir(dir_name):\n",
    "        if fname[-4:] == '.txt':\n",
    "            f = open(os.path.join(dir_name,fname))\n",
    "            texts.append(f.read())\n",
    "            f.close()\n",
    "            if label_type == 'neg':\n",
    "                labels.append(0)\n",
    "            else:\n",
    "                labels.append(1)"
   ]
  },
  {
   "cell_type": "code",
   "execution_count": 5,
   "id": "living-wallet",
   "metadata": {},
   "outputs": [
    {
     "data": {
      "text/plain": [
       "25000"
      ]
     },
     "execution_count": 5,
     "metadata": {},
     "output_type": "execute_result"
    }
   ],
   "source": [
    "len(texts)"
   ]
  },
  {
   "cell_type": "code",
   "execution_count": 12,
   "id": "opposed-johnson",
   "metadata": {},
   "outputs": [],
   "source": [
    "from tensorflow.keras.preprocessing.text import Tokenizer\n",
    "from tensorflow.keras.preprocessing.sequence import pad_sequences\n",
    "import numpy as np"
   ]
  },
  {
   "cell_type": "code",
   "execution_count": 13,
   "id": "accomplished-brooks",
   "metadata": {},
   "outputs": [],
   "source": [
    "maxlen = 100\n",
    "training_samples = 200\n",
    "validation_samples = 10000\n",
    "max_words = 10000"
   ]
  },
  {
   "cell_type": "code",
   "execution_count": 14,
   "id": "basic-january",
   "metadata": {},
   "outputs": [],
   "source": [
    "tokenizer = Tokenizer(num_words=max_words)"
   ]
  },
  {
   "cell_type": "code",
   "execution_count": 15,
   "id": "productive-lighting",
   "metadata": {},
   "outputs": [],
   "source": [
    "tokenizer.fit_on_texts(texts)"
   ]
  },
  {
   "cell_type": "code",
   "execution_count": 22,
   "id": "voluntary-credits",
   "metadata": {},
   "outputs": [],
   "source": [
    "seq = tokenizer.texts_to_sequences(texts)"
   ]
  },
  {
   "cell_type": "code",
   "execution_count": 25,
   "id": "developed-perfume",
   "metadata": {},
   "outputs": [
    {
     "data": {
      "text/plain": [
       "25000"
      ]
     },
     "execution_count": 25,
     "metadata": {},
     "output_type": "execute_result"
    }
   ],
   "source": [
    "len(seq)"
   ]
  },
  {
   "cell_type": "code",
   "execution_count": 28,
   "id": "bound-carpet",
   "metadata": {},
   "outputs": [],
   "source": [
    "word_index = tokenizer.word_index"
   ]
  },
  {
   "cell_type": "code",
   "execution_count": 31,
   "id": "static-prompt",
   "metadata": {},
   "outputs": [],
   "source": [
    "data = pad_sequences(seq, maxlen=maxlen)"
   ]
  },
  {
   "cell_type": "code",
   "execution_count": 44,
   "id": "overall-pottery",
   "metadata": {},
   "outputs": [
    {
     "data": {
      "text/plain": [
       "(61, 100)"
      ]
     },
     "execution_count": 44,
     "metadata": {},
     "output_type": "execute_result"
    }
   ],
   "source": [
    "len(seq[6]) , len(data[6])"
   ]
  },
  {
   "cell_type": "code",
   "execution_count": 46,
   "id": "hawaiian-formula",
   "metadata": {},
   "outputs": [],
   "source": [
    "labels = np.asarray(labels)"
   ]
  },
  {
   "cell_type": "code",
   "execution_count": 47,
   "id": "retained-patent",
   "metadata": {},
   "outputs": [
    {
     "name": "stdout",
     "output_type": "stream",
     "text": [
      "Shape of data tensor: (25000, 100)\n",
      "Shape of label tensor: (25000,)\n"
     ]
    }
   ],
   "source": [
    "print('Shape of data tensor:', data.shape)\n",
    "print('Shape of label tensor:', labels.shape)"
   ]
  },
  {
   "cell_type": "code",
   "execution_count": 51,
   "id": "intimate-priest",
   "metadata": {},
   "outputs": [],
   "source": [
    "indices = np.arange(data.shape[0])\n",
    "np.random.shuffle(indices)"
   ]
  },
  {
   "cell_type": "code",
   "execution_count": 52,
   "id": "swiss-bikini",
   "metadata": {},
   "outputs": [
    {
     "data": {
      "text/plain": [
       "array([21884,  1901,  8365, ..., 11466, 11044,  6299])"
      ]
     },
     "execution_count": 52,
     "metadata": {},
     "output_type": "execute_result"
    }
   ],
   "source": [
    "indices"
   ]
  },
  {
   "cell_type": "code",
   "execution_count": 53,
   "id": "identical-playlist",
   "metadata": {},
   "outputs": [],
   "source": [
    "data = data[indices]\n",
    "labels = labels[indices]"
   ]
  },
  {
   "cell_type": "code",
   "execution_count": 54,
   "id": "waiting-gibson",
   "metadata": {},
   "outputs": [],
   "source": [
    "x_train = data[:training_samples]\n",
    "x_val = data[training_samples:training_samples+validation_samples]\n",
    "\n",
    "y_train = labels[:training_samples]\n",
    "y_val = labels[training_samples:training_samples+validation_samples]"
   ]
  },
  {
   "cell_type": "code",
   "execution_count": 58,
   "id": "usual-console",
   "metadata": {},
   "outputs": [],
   "source": [
    "embedding_index = {}\n",
    "f = open('data/glove.6B.100d.txt')\n",
    "\n",
    "for line in f:\n",
    "    values = line.split()\n",
    "    word = values[0]\n",
    "    coefs = np.asarray(values[1:],dtype='float32')\n",
    "    embedding_index[word] = coefs\n",
    "f.close()"
   ]
  },
  {
   "cell_type": "code",
   "execution_count": 60,
   "id": "nasty-globe",
   "metadata": {},
   "outputs": [
    {
     "data": {
      "text/plain": [
       "400000"
      ]
     },
     "execution_count": 60,
     "metadata": {},
     "output_type": "execute_result"
    }
   ],
   "source": [
    "len(embedding_index)"
   ]
  },
  {
   "cell_type": "code",
   "execution_count": 82,
   "id": "graphic-slovakia",
   "metadata": {},
   "outputs": [],
   "source": [
    "embedding_dim = 100\n",
    "embedding_matrix = np.zeros((max_words,embedding_dim))"
   ]
  },
  {
   "cell_type": "code",
   "execution_count": 86,
   "id": "cognitive-raising",
   "metadata": {},
   "outputs": [],
   "source": [
    "for word, i in word_index.items():\n",
    "    if i < max_words:\n",
    "        embedding_vector = embedding_index.get(word)\n",
    "        if embedding_vector is not None:\n",
    "            embedding_matrix[i] = embedding_vector"
   ]
  },
  {
   "cell_type": "code",
   "execution_count": 85,
   "id": "covered-pastor",
   "metadata": {},
   "outputs": [
    {
     "data": {
      "text/plain": [
       "100"
      ]
     },
     "execution_count": 85,
     "metadata": {},
     "output_type": "execute_result"
    }
   ],
   "source": [
    "len(embedding_vector)"
   ]
  },
  {
   "cell_type": "code",
   "execution_count": 88,
   "id": "polar-retailer",
   "metadata": {},
   "outputs": [],
   "source": [
    "from tensorflow.keras.models import Sequential\n",
    "from tensorflow.keras.layers import Embedding, Flatten, Dense"
   ]
  },
  {
   "cell_type": "code",
   "execution_count": 90,
   "id": "forward-shelter",
   "metadata": {},
   "outputs": [
    {
     "name": "stdout",
     "output_type": "stream",
     "text": [
      "Model: \"sequential_1\"\n",
      "_________________________________________________________________\n",
      "Layer (type)                 Output Shape              Param #   \n",
      "=================================================================\n",
      "embedding_1 (Embedding)      (None, 100, 100)          1000000   \n",
      "_________________________________________________________________\n",
      "flatten (Flatten)            (None, 10000)             0         \n",
      "_________________________________________________________________\n",
      "dense (Dense)                (None, 32)                320032    \n",
      "_________________________________________________________________\n",
      "dense_1 (Dense)              (None, 1)                 33        \n",
      "=================================================================\n",
      "Total params: 1,320,065\n",
      "Trainable params: 1,320,065\n",
      "Non-trainable params: 0\n",
      "_________________________________________________________________\n"
     ]
    }
   ],
   "source": [
    "model = Sequential()\n",
    "model.add(Embedding(max_words,embedding_dim, input_length=maxlen))\n",
    "model.add(Flatten())\n",
    "model.add(Dense(32, activation='relu'))\n",
    "model.add(Dense(1,activation='sigmoid'))\n",
    "model.summary()\n"
   ]
  },
  {
   "cell_type": "code",
   "execution_count": 95,
   "id": "cooperative-expansion",
   "metadata": {},
   "outputs": [],
   "source": [
    "model.layers[0].set_weights([embedding_matrix])\n",
    "model.layers[0].trainable = False"
   ]
  },
  {
   "cell_type": "code",
   "execution_count": 96,
   "id": "constitutional-fishing",
   "metadata": {},
   "outputs": [],
   "source": [
    "model.compile(optimizer='rmsprop',loss='binary_crossentropy',metrics=['acc'])"
   ]
  },
  {
   "cell_type": "code",
   "execution_count": 97,
   "id": "amateur-electronics",
   "metadata": {},
   "outputs": [
    {
     "name": "stdout",
     "output_type": "stream",
     "text": [
      "Epoch 1/10\n",
      "7/7 [==============================] - 6s 229ms/step - loss: 3.1121 - acc: 0.4620 - val_loss: 0.8162 - val_acc: 0.5012\n",
      "Epoch 2/10\n",
      "7/7 [==============================] - 1s 153ms/step - loss: 0.5455 - acc: 0.7308 - val_loss: 1.1657 - val_acc: 0.5062\n",
      "Epoch 3/10\n",
      "7/7 [==============================] - 1s 149ms/step - loss: 0.6152 - acc: 0.6267 - val_loss: 1.2622 - val_acc: 0.4942\n",
      "Epoch 4/10\n",
      "7/7 [==============================] - 1s 165ms/step - loss: 0.3629 - acc: 0.8125 - val_loss: 0.9125 - val_acc: 0.5022\n",
      "Epoch 5/10\n",
      "7/7 [==============================] - 1s 162ms/step - loss: 0.1473 - acc: 0.9747 - val_loss: 0.8239 - val_acc: 0.5235\n",
      "Epoch 6/10\n",
      "7/7 [==============================] - 1s 192ms/step - loss: 0.2342 - acc: 0.9096 - val_loss: 0.7291 - val_acc: 0.5562\n",
      "Epoch 7/10\n",
      "7/7 [==============================] - 1s 169ms/step - loss: 0.0786 - acc: 1.0000 - val_loss: 1.1244 - val_acc: 0.5001\n",
      "Epoch 8/10\n",
      "7/7 [==============================] - 1s 150ms/step - loss: 0.0779 - acc: 1.0000 - val_loss: 0.9020 - val_acc: 0.5221\n",
      "Epoch 9/10\n",
      "7/7 [==============================] - 1s 149ms/step - loss: 0.0434 - acc: 1.0000 - val_loss: 0.8204 - val_acc: 0.5434\n",
      "Epoch 10/10\n",
      "7/7 [==============================] - 1s 158ms/step - loss: 0.0244 - acc: 1.0000 - val_loss: 0.8463 - val_acc: 0.5460\n"
     ]
    }
   ],
   "source": [
    "history = model.fit(x_train, y_train, epochs = 10, batch_size=32, validation_data=(x_val, y_val))"
   ]
  },
  {
   "cell_type": "code",
   "execution_count": 100,
   "id": "upset-anime",
   "metadata": {},
   "outputs": [],
   "source": [
    "train_acc = history.history['acc']\n",
    "val_acc = history.history['val_acc']"
   ]
  },
  {
   "cell_type": "code",
   "execution_count": 102,
   "id": "gothic-karen",
   "metadata": {},
   "outputs": [],
   "source": [
    "def compare_plots_(train,val,metric):\n",
    "    import matplotlib.pyplot as plt\n",
    "    epochs = range(1,len(train)+1)\n",
    "    plt.plot(epochs,train,'bo',label='Training %s'%(metric))\n",
    "    plt.plot(epochs,val,'b',label='Validation %s'%(metric))\n",
    "    plt.title('Training and Validation %s'%(metric))\n",
    "    plt.legend()\n",
    "    plt.show()"
   ]
  },
  {
   "cell_type": "code",
   "execution_count": 103,
   "id": "requested-spouse",
   "metadata": {},
   "outputs": [
    {
     "data": {
      "image/png": "[encoded data removed]",
      "text/plain": [
       "<Figure size 432x288 with 1 Axes>"
      ]
     },
     "metadata": {
      "needs_background": "light"
     },
     "output_type": "display_data"
    }
   ],
   "source": [
    "compare_plots_(train_acc,val_acc,'accuracy')"
   ]
  },
  {
   "cell_type": "code",
   "execution_count": null,
   "id": "adolescent-debate",
   "metadata": {},
   "outputs": [],
   "source": []
  }
 ],
 "metadata": {
  "kernelspec": {
   "display_name": "Python 3",
   "language": "python",
   "name": "python3"
  },
  "language_info": {
   "codemirror_mode": {
    "name": "ipython",
    "version": 3
   },
   "file_extension": ".py",
   "mimetype": "text/x-python",
   "name": "python",
   "nbconvert_exporter": "python",
   "pygments_lexer": "ipython3",
   "version": "3.6.9"
  }
 },
 "nbformat": 4,
 "nbformat_minor": 5
}
